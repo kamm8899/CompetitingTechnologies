{
 "cells": [
  {
   "cell_type": "code",
   "execution_count": 2,
   "metadata": {},
   "outputs": [
    {
     "ename": "ModuleNotFoundError",
     "evalue": "No module named 'nibabel'",
     "output_type": "error",
     "traceback": [
      "\u001b[0;31m---------------------------------------------------------------------------\u001b[0m",
      "\u001b[0;31mModuleNotFoundError\u001b[0m                       Traceback (most recent call last)",
      "\u001b[0;32m/var/folders/hr/3dhbmnc50n7csq4c8dgqc60r0000gn/T/ipykernel_78311/1684554477.py\u001b[0m in \u001b[0;36m<module>\u001b[0;34m\u001b[0m\n\u001b[1;32m      2\u001b[0m \u001b[0;32mimport\u001b[0m \u001b[0mpandas\u001b[0m \u001b[0;32mas\u001b[0m \u001b[0mpd\u001b[0m\u001b[0;34m\u001b[0m\u001b[0;34m\u001b[0m\u001b[0m\n\u001b[1;32m      3\u001b[0m \u001b[0;32mimport\u001b[0m \u001b[0mnumpy\u001b[0m \u001b[0;32mas\u001b[0m \u001b[0mnp\u001b[0m\u001b[0;34m\u001b[0m\u001b[0;34m\u001b[0m\u001b[0m\n\u001b[0;32m----> 4\u001b[0;31m \u001b[0;32mimport\u001b[0m \u001b[0mnibabel\u001b[0m \u001b[0;32mas\u001b[0m \u001b[0mnib\u001b[0m\u001b[0;34m\u001b[0m\u001b[0;34m\u001b[0m\u001b[0m\n\u001b[0m\u001b[1;32m      5\u001b[0m \u001b[0;32mimport\u001b[0m \u001b[0mmatplotlib\u001b[0m\u001b[0;34m.\u001b[0m\u001b[0mpyplot\u001b[0m \u001b[0;32mas\u001b[0m \u001b[0mplt\u001b[0m\u001b[0;34m\u001b[0m\u001b[0;34m\u001b[0m\u001b[0m\n",
      "\u001b[0;31mModuleNotFoundError\u001b[0m: No module named 'nibabel'"
     ]
    }
   ],
   "source": [
    "import os\n",
    "import pandas as pd\n",
    "import numpy as np\n",
    "import nibabel as nib\n",
    "import matplotlib.pyplot as plt\n"
   ]
  },
  {
   "cell_type": "code",
   "execution_count": 3,
   "metadata": {},
   "outputs": [
    {
     "name": "stdout",
     "output_type": "stream",
     "text": [
      "Processing folder: /Users/jessicakammann/Desktop/ResearchAlzheimers/ADNI_1\n",
      "Processing folder: /Users/jessicakammann/Desktop/ResearchAlzheimers/ADNI_2\n",
      "Processing folder: /Users/jessicakammann/Desktop/ResearchAlzheimers/ADNI_3\n",
      "Processing folder: /Users/jessicakammann/Desktop/ResearchAlzheimers/ADNI_4\n",
      "Processing folder: /Users/jessicakammann/Desktop/ResearchAlzheimers/ADNI_5\n",
      "Processing folder: /Users/jessicakammann/Desktop/ResearchAlzheimers/ADNI_6\n",
      "Processing folder: /Users/jessicakammann/Desktop/ResearchAlzheimers/ADNI_7\n",
      "Processing folder: /Users/jessicakammann/Desktop/ResearchAlzheimers/ADNI_8\n"
     ]
    }
   ],
   "source": [
    "folder_paths = ['/Users/jessicakammann/Desktop/ResearchAlzheimers/ADNI_1',\n",
    "'/Users/jessicakammann/Desktop/ResearchAlzheimers/ADNI_2',\n",
    "'/Users/jessicakammann/Desktop/ResearchAlzheimers/ADNI_3',\n",
    "'/Users/jessicakammann/Desktop/ResearchAlzheimers/ADNI_4',\n",
    "'/Users/jessicakammann/Desktop/ResearchAlzheimers/ADNI_5',\n",
    "'/Users/jessicakammann/Desktop/ResearchAlzheimers/ADNI_6',\n",
    "'/Users/jessicakammann/Desktop/ResearchAlzheimers/ADNI_7',\n",
    "'/Users/jessicakammann/Desktop/ResearchAlzheimers/ADNI_8'\n",
    "]\n",
    "\n",
    "\n",
    "# Function to process .nii files\n",
    "def process_nii_files(folder_paths):\n",
    "    for folder_path in folder_paths:\n",
    "        print(f\"Processing folder: {folder_path}\")\n",
    "        \n",
    "                # Iterate through all .nii files in the folder\n",
    "        for file_name in os.listdir(folder_path):\n",
    "            if file_name.endswith('.nii') or file_name.endswith('.nii.gz'):\n",
    "                file_path = os.path.join(folder_path, file_name)\n",
    "                \n",
    "                # Load the .nii file\n",
    "                img = nib.load(file_path)\n",
    "                img_data = img.get_fdata()\n",
    "                \n",
    "                # Print basic information about the file\n",
    "                print(f\"File: {file_name}\")\n",
    "                print(f\"Shape: {img_data.shape}\")\n",
    "                \n",
    "                # Example: Visualize the middle slice of the 3D image\n",
    "                if len(img_data.shape) == 3:  # Ensure it's a 3D image\n",
    "                    slice_index = img_data.shape[2] // 2  # Middle slice\n",
    "                    plt.imshow(img_data[:, :, slice_index], cmap='gray')\n",
    "                    plt.title(f\"Slice {slice_index} of {file_name}\")\n",
    "                    plt.axis('off')\n",
    "                    plt.show()\n",
    "\n",
    "# Call the function\n",
    "process_nii_files(folder_paths)\n",
    "        \n",
    "    \n",
    "\n"
   ]
  }
 ],
 "metadata": {
  "kernelspec": {
   "display_name": "Python 3",
   "language": "python",
   "name": "python3"
  },
  "language_info": {
   "codemirror_mode": {
    "name": "ipython",
    "version": 3
   },
   "file_extension": ".py",
   "mimetype": "text/x-python",
   "name": "python",
   "nbconvert_exporter": "python",
   "pygments_lexer": "ipython3",
   "version": "3.9.19"
  }
 },
 "nbformat": 4,
 "nbformat_minor": 2
}
