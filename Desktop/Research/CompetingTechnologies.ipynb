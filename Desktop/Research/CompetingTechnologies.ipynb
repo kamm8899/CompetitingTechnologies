{
 "cells": [
  {
   "cell_type": "code",
   "execution_count": 52,
   "metadata": {},
   "outputs": [],
   "source": [
    "import pandas as pd \n",
    "import numpy as np"
   ]
  },
  {
   "cell_type": "code",
   "execution_count": 2,
   "metadata": {},
   "outputs": [
    {
     "data": {
      "text/plain": [
       "Year                      object\n",
       "Android                  float64\n",
       "Apple                    float64\n",
       "Apple_investment           int64\n",
       "Samsung_Research           int64\n",
       "android_price_average      int64\n",
       "iphone_prices              int64\n",
       "dtype: object"
      ]
     },
     "execution_count": 2,
     "metadata": {},
     "output_type": "execute_result"
    }
   ],
   "source": [
    "marketshare =pd.read_excel(\"/Users/jessicakammann/Desktop/Research /Cellphone Market Share by Quarter.xlsx\")\n",
    "\n",
    "marketshare[\"Samsung_Research\"] = marketshare[\"Samsung_Research\"].astype(int)\n",
    "marketshare.dtypes\n",
    "\n"
   ]
  },
  {
   "cell_type": "code",
   "execution_count": 53,
   "metadata": {},
   "outputs": [],
   "source": [
    "data = { 'date':['2011-Q1', '2011-Q2', '2011-Q3', '2011-Q4', '2012-Q1', '2012-Q2', '2012-Q3', '2012-Q4', '2013-Q1', '2013-Q2', '2013-Q3', '2013-Q4', '2014-Q1', '2014-Q2', '2014-Q3', '2014-Q4', '2015-Q1', '2015-Q2', '2015-Q3', '2015-Q4', '2016-Q1', '2016-Q2', '2016-Q3', '2016-Q4', '2017-Q1', '2017-Q2', '2017-Q3', '2017-Q4', '2018-Q1', '2018-Q2', '2018-Q3', '2018-Q4',' 2019-Q1','2019-Q2','2019-Q3','2019-Q4','2020- Q1',' 2020- Q2',' 2020- Q3',' 2020- Q4',' 2021- Q1',' 2021- Q2',' 2021- Q3',' 2021- Q4',' 2022- Q1',' 2022- Q2',' 2022- Q3',' 2022- Q4',' 2023- Q1',' 2023- Q2',' 2023- Q3',' 2023- Q4',' 2024- Q1',' 2024- Q2',' 2024- Q3',' 2024- Q4'], \n",
    "         'market_share_apple':['24.38','20.04','21.21','22.71','23.99','24.56','23.63','23.26','27.14','25.09','22.73','21.82','23.6','24.29','24.73','23.51','22.64','20.22','18.14','19.21','18.82','20.33','19.38','18.89','19.5','19.35','19.37','19.91','20.83','18.91','20.66','21.98','22.4','22.04','22.48','24.79','27.03','25.26','24.98','26.91','27.41','26.35','26.75','29.24','27.57','27.22','27.8','26.98','28.42','28.44','29.58','28.8','28.46','27.16','27.61','26.04'],\n",
    "         'market_share_android': ['15.82','17.92','20.9','21.83','23.61','25.07','29.25','33.19','37.23','37.93','39.82','42.99','48.26','52.98','55.7','59.15','61.94','63.75','66.77','65.9','68.04','68.39','69.68','71.97','71.61','72.89','73.52','73.54','74.24','76.99','76.61','75.16','75.33','76.03','76.24','74.13','72.26','74.14','74.44','72.48','71.83','72.83','72.44','70.01','71.7','72.12','71.55','72.37','70.88','70.79','69.74','70.48','70.78','72.17','71.84','73.49'],\n",
    "         'Apple_investment':['581','628','645','758','841','876','628','906','1,010','1,119','1,178','1,168','1,330','1,422','1,603','1,686','1,895','1,918','2,034','2,220','2,404','2,511','2,560','2,570','2,871','2,776','2,937','2,997','3407','3378','3701','3750','3948','4257','4110','4451','4565','4758','4978','5163','5262','5717','5772','6306','6387','6797','6761','7709','7457','7442','7307',' $7,696 ',' $7,903',' $8,006',' $7,765',' $8,268'],\n",
    "         'Samsung_Research': ['16.14','17.39','16.75','18.85','18.8','19.77','20.58','20.53','22.92','24.45','25.17','25.96','25.28','25.63','22.92735','25.16807','24.05','23.0894','23.55','23.838708','24.6','24.19','24.19','24.39','25.974546','27.352506','28.799364','30.521814','29.074956','30.848426','35.18','36.102552','33.76002','34.10451','35.344674','33.7241544','36.929328','35.964756','36.584838','35.964756','37.480512','37.067124','35.206878','44.577006','40.787616','43.06125','43.199046','44.545946','45.334884','49.656','48.297498','52.01799','53.878236','49.60656','48.297498','51.66735'],\n",
    "         'android_price_average': ['380,','380','380','380','380','320','320','320','276','276','276','276','254','254','254','254','232','232','232','232','220','220','220','220','235','235','235','235','254','254','254','254','270','270','270','270','292','292','292','292','296','296','296','296','300','300','300','300','305','305','305','305','305','305', '305','305'],\n",
    "         'iphone_prices': ['199','199','199','199','199','199','199','199','99','99','99','99','249','249','249','249','249','249','249','249','606','606','606','606','832','832','832','832','949','949','949','949','933','933','933','933','999','999','999','999','899','899','899','899','949','949','949','949','974','974','974','974','974','974','974','974']\n",
    "\n",
    "    \n",
    "}"
   ]
  },
  {
   "cell_type": "code",
   "execution_count": 54,
   "metadata": {},
   "outputs": [],
   "source": [
    "#https://www.statsmodels.org/stable/index.html\n",
    "import statsmodels.api as sm\n",
    "import statsmodels.formula.api as smf\n"
   ]
  },
  {
   "cell_type": "markdown",
   "metadata": {},
   "source": [
    "Regression Model for Android"
   ]
  },
  {
   "cell_type": "code",
   "execution_count": 56,
   "metadata": {},
   "outputs": [
    {
     "data": {
      "image/png": "[encoded data removed]",
      "text/plain": [
       "<Figure size 432x288 with 1 Axes>"
      ]
     },
     "metadata": {
      "needs_background": "light"
     },
     "output_type": "display_data"
    }
   ],
   "source": [
    "# Fit regression model (using the natural log of one of the regressors)\n",
    "#Linear Regression for Android \n",
    "#results = smf.ols('Android ~ + iphone_prices + android_price_average + Samsung_Research + Apple_investment ', data=marketshare).fit()\n",
    "#print(results.summary())\n",
    "\n",
    "# Strip leading/trailing spaces from 'date' strings\n",
    "data['date'] = [d.strip().replace(' ', '') for d in data['date']]\n",
    "\n",
    " #Convert 'date' to datetime by parsing year and quarter\n",
    "def parse_quarter(date_str):\n",
    "    year, quarter = date_str.strip().split('-')\n",
    "    quarter_start_month = {'Q1': 1, 'Q2': 4, 'Q3': 7, 'Q4': 10}\n",
    "    return pd.Timestamp(year=int(year), month=quarter_start_month[quarter], day=1)\n",
    "\n",
    "df = pd.DataFrame(data)\n",
    "df['date'] = pd.to_datetime(df['date'].apply(parse_quarter))\n",
    "#df.set_index('date', inplace=True)\n",
    "\n",
    "df['date_numeric']= (df['date'] - df['date'].min()).dt.days\n",
    "\n",
    "\n",
    "\n",
    "\n",
    "\n",
    "# Convert market share and other columns to numeric, handling errors \n",
    "df['market_share_apple'] = pd.to_numeric(df['market_share_apple'], errors='coerce')\n",
    "df['market_share_android'] = pd.to_numeric(df['market_share_android'], errors='coerce')\n",
    "df['Apple_investment'] = pd.to_numeric(df['Apple_investment'].str.replace(',', '').str.replace('$', ''), errors='coerce')\n",
    "df['Samsung_Research'] = pd.to_numeric(df['Samsung_Research'], errors='coerce')\n",
    "df['android_price_average'] = pd.to_numeric(df['android_price_average'].str.replace(',', ''), errors='coerce')\n",
    "df['iphone_prices'] = pd.to_numeric(df['iphone_prices'], errors='coerce')\n",
    "\n",
    "# Drop rows with missing or invalid data\n",
    "df.dropna(inplace=True)\n",
    "\n",
    "Y = df['market_share_android']\n",
    "X = df[['market_share_apple','Apple_investment', 'Samsung_Research', 'android_price_average', 'iphone_prices', 'date_numeric']]\n",
    "\n",
    "# Reset index to access 'date' column for forecasting\n",
    "df.reset_index(inplace=True)\n",
    "\n",
    "# Split data into training and testing sets\n",
    "X_train = X.iloc[0:20,:]\n",
    "X_test = X.iloc[20:,:]\n",
    "y_train = Y.iloc[0:20]\n",
    "y_test = Y.iloc[20:]\n",
    "\n",
    "train = pd.concat([X_train, y_train], axis=1)\n",
    "results = smf.ols('market_share_android ~  date_numeric + market_share_apple+ iphone_prices + android_price_average + Samsung_Research + Apple_investment ', data=train).fit()\n",
    "forecast =results.predict(X_test)\n",
    "forecast_index = pd.date_range(start = df['date'].iloc[-len(X_test)], periods=len(X_test), freq='Q')\n",
    "\n",
    "# Plot the data\n",
    "import matplotlib.pyplot as plt\n",
    "plt.plot(df['date'], df['market_share_android'], label='Actual')\n",
    "plt.plot(forecast_index, forecast, label='Forecast', color='red')\n",
    "plt.xlabel('date')\n",
    "plt.ylabel('Market Share')\n",
    "plt.title('Android Market Share Forecast')\n",
    "plt.legend()\n",
    "plt.show()\n",
    "\n"
   ]
  },
  {
   "cell_type": "markdown",
   "metadata": {},
   "source": [
    "#R-squared --adjusted Rsquared --.932 , 93% can be explained by these four variables \n",
    "#look at P variable, alot auto correlation, everything is correlated with inflation, everything goes bigger overtime, maybe need to adjust for adjust\n",
    "# Regression Model Apple\n",
    "#divide by 100 million market research \n",
    "#how do we do we do the payoff matrix "
   ]
  },
  {
   "cell_type": "markdown",
   "metadata": {},
   "source": [
    "Regression Model Apple Versus Android"
   ]
  },
  {
   "cell_type": "code",
   "execution_count": 57,
   "metadata": {},
   "outputs": [
    {
     "name": "stdout",
     "output_type": "stream",
     "text": [
      "                             OLS Regression Results                             \n",
      "================================================================================\n",
      "Dep. Variable:     market_share_android   R-squared:                       0.993\n",
      "Model:                              OLS   Adj. R-squared:                  0.989\n",
      "Method:                   Least Squares   F-statistic:                     296.9\n",
      "Date:                  Tue, 29 Apr 2025   Prob (F-statistic):           3.87e-13\n",
      "Time:                          09:29:15   Log-Likelihood:                -35.635\n",
      "No. Observations:                    20   AIC:                             85.27\n",
      "Df Residuals:                        13   BIC:                             92.24\n",
      "Df Model:                             6                                         \n",
      "Covariance Type:              nonrobust                                         \n",
      "=========================================================================================\n",
      "                            coef    std err          t      P>|t|      [0.025      0.975]\n",
      "-----------------------------------------------------------------------------------------\n",
      "Intercept                19.4373     19.511      0.996      0.337     -22.715      61.589\n",
      "date_numeric              0.0243      0.007      3.318      0.006       0.008       0.040\n",
      "market_share_apple        0.0704      0.266      0.265      0.795      -0.503       0.644\n",
      "iphone_prices             0.0203      0.011      1.832      0.090      -0.004       0.044\n",
      "android_price_average    -0.0328      0.036     -0.906      0.381      -0.111       0.045\n",
      "Samsung_Research         -0.0117      0.412     -0.028      0.978      -0.901       0.878\n",
      "Apple_investment          0.0040      0.005      0.839      0.416      -0.006       0.014\n",
      "==============================================================================\n",
      "Omnibus:                        8.147   Durbin-Watson:                   1.309\n",
      "Prob(Omnibus):                  0.017   Jarque-Bera (JB):                5.584\n",
      "Skew:                          -1.195   Prob(JB):                       0.0613\n",
      "Kurtosis:                       3.995   Cond. No.                     8.27e+04\n",
      "==============================================================================\n",
      "\n",
      "Notes:\n",
      "[1] Standard Errors assume that the covariance matrix of the errors is correctly specified.\n",
      "[2] The condition number is large, 8.27e+04. This might indicate that there are\n",
      "strong multicollinearity or other numerical problems.\n"
     ]
    },
    {
     "data": {
      "image/png": "[encoded data removed]",
      "text/plain": [
       "<Figure size 432x288 with 1 Axes>"
      ]
     },
     "metadata": {
      "needs_background": "light"
     },
     "output_type": "display_data"
    }
   ],
   "source": [
    "# Fit regression model (using the natural log of one of the regressors)\n",
    "#Linear Regression for Apple \n",
    "#results = smf.ols('Apple ~ Android + iphone_prices + android_price_average + Samsung_Research + Apple_investment ', data=marketshare).fit()\n",
    "print(results.summary())\n",
    "\n",
    "# Strip leading/trailing spaces from 'date' strings\n",
    "data['date'] = [d.strip().replace(' ', '') for d in data['date']]\n",
    "\n",
    "\n",
    "# Convert 'date' to datetime by parsing year and quarter\n",
    "def parse_quarter(date_str):\n",
    "    year, quarter = date_str.strip().split('-')\n",
    "    quarter_start_month = {'Q1': 1, 'Q2': 4, 'Q3': 7, 'Q4': 10}\n",
    "    return pd.Timestamp(year=int(year), month=quarter_start_month[quarter], day=1)\n",
    "\n",
    "df = pd.DataFrame(data)\n",
    "df['date'] = pd.to_datetime(df['date'].apply(parse_quarter))\n",
    "#df.set_index('date', inplace=True)\n",
    "\n",
    "df['date_numeric']= (df['date'] - df['date'].min()).dt.days\n",
    "\n",
    "# Convert market share and other columns to numeric, handling errors \n",
    "df['market_share_apple'] = pd.to_numeric(df['market_share_apple'], errors='coerce')\n",
    "df['market_share_android'] = pd.to_numeric(df['market_share_android'], errors='coerce')\n",
    "df['Apple_investment'] = pd.to_numeric(df['Apple_investment'].str.replace(',', '').str.replace('$', ''), errors='coerce')\n",
    "df['Samsung_Research'] = pd.to_numeric(df['Samsung_Research'], errors='coerce')\n",
    "df['android_price_average'] = pd.to_numeric(df['android_price_average'].str.replace(',', ''), errors='coerce')\n",
    "df['iphone_prices'] = pd.to_numeric(df['iphone_prices'], errors='coerce')\n",
    "\n",
    "# Drop rows with missing or invalid data\n",
    "df.dropna(inplace=True)\n",
    "\n",
    "Y = df['market_share_apple']\n",
    "X = df[['market_share_android','Apple_investment', 'Samsung_Research', 'android_price_average', 'iphone_prices', 'date_numeric']]\n",
    "\n",
    "# Reset index to access 'date' column for forecasting\n",
    "df.reset_index(inplace=True)\n",
    "\n",
    "# Split data into training and testing sets\n",
    "X_train = X.iloc[0:20,:]\n",
    "X_test = X.iloc[20:,:]\n",
    "y_train = Y.iloc[0:20]\n",
    "y_test = Y.iloc[20:]\n",
    "y_test = Y.iloc[20:]\n",
    "train = pd.concat([X_train, y_train], axis=1)\n",
    "results = smf.ols('market_share_apple ~ date_numeric + market_share_android + iphone_prices + android_price_average + Samsung_Research + Apple_investment ', data=train).fit()\n",
    "forecast =results.predict(X_test)\n",
    "forecast_index = pd.date_range(start = df['date'].iloc[-len(X_test)], periods=len(X_test), freq='Q')\n",
    "\n",
    "# Plot the data\n",
    "import matplotlib.pyplot as plt\n",
    "plt.plot(df['date'], df['market_share_apple'], label='Actual')\n",
    "plt.plot(forecast_index, forecast, label='Forecast', color='red')\n",
    "plt.xlabel('date')\n",
    "plt.ylabel('Market Share')\n",
    "plt.title('Apple Market Share Forecast')\n",
    "plt.legend()\n",
    "plt.show()\n",
    "#linear respect to prices, investment and research not time\n",
    "\n"
   ]
  },
  {
   "cell_type": "code",
   "execution_count": null,
   "metadata": {},
   "outputs": [
    {
     "data": {
      "text/html": [
       "<table class=\"simpletable\">\n",
       "<caption>OLS Regression Results</caption>\n",
       "<tr>\n",
       "  <th>Dep. Variable:</th>    <td>market_share_apple</td> <th>  R-squared:         </th> <td>   0.676</td>\n",
       "</tr>\n",
       "<tr>\n",
       "  <th>Model:</th>                    <td>OLS</td>        <th>  Adj. R-squared:    </th> <td>   0.629</td>\n",
       "</tr>\n",
       "<tr>\n",
       "  <th>Method:</th>              <td>Least Squares</td>   <th>  F-statistic:       </th> <td>   14.21</td>\n",
       "</tr>\n",
       "<tr>\n",
       "  <th>Date:</th>              <td>Sun, 27 Apr 2025</td>  <th>  Prob (F-statistic):</th> <td>1.60e-07</td>\n",
       "</tr>\n",
       "<tr>\n",
       "  <th>Time:</th>                  <td>12:58:31</td>      <th>  Log-Likelihood:    </th> <td> -70.581</td>\n",
       "</tr>\n",
       "<tr>\n",
       "  <th>No. Observations:</th>       <td>    40</td>       <th>  AIC:               </th> <td>   153.2</td>\n",
       "</tr>\n",
       "<tr>\n",
       "  <th>Df Residuals:</th>           <td>    34</td>       <th>  BIC:               </th> <td>   163.3</td>\n",
       "</tr>\n",
       "<tr>\n",
       "  <th>Df Model:</th>               <td>     5</td>       <th>                     </th>     <td> </td>   \n",
       "</tr>\n",
       "<tr>\n",
       "  <th>Covariance Type:</th>       <td>nonrobust</td>     <th>                     </th>     <td> </td>   \n",
       "</tr>\n",
       "</table>\n",
       "<table class=\"simpletable\">\n",
       "<tr>\n",
       "            <td></td>               <th>coef</th>     <th>std err</th>      <th>t</th>      <th>P>|t|</th>  <th>[0.025</th>    <th>0.975]</th>  \n",
       "</tr>\n",
       "<tr>\n",
       "  <th>Intercept</th>             <td>   36.2099</td> <td>    8.745</td> <td>    4.141</td> <td> 0.000</td> <td>   18.439</td> <td>   53.981</td>\n",
       "</tr>\n",
       "<tr>\n",
       "  <th>market_share_android</th>  <td>   -0.3006</td> <td>    0.082</td> <td>   -3.679</td> <td> 0.001</td> <td>   -0.467</td> <td>   -0.135</td>\n",
       "</tr>\n",
       "<tr>\n",
       "  <th>iphone_prices</th>         <td>   -0.0051</td> <td>    0.002</td> <td>   -2.277</td> <td> 0.029</td> <td>   -0.010</td> <td>   -0.001</td>\n",
       "</tr>\n",
       "<tr>\n",
       "  <th>android_price_average</th> <td>   -0.0370</td> <td>    0.019</td> <td>   -1.902</td> <td> 0.066</td> <td>   -0.077</td> <td>    0.003</td>\n",
       "</tr>\n",
       "<tr>\n",
       "  <th>Samsung_Research</th>      <td>    0.3095</td> <td>    0.117</td> <td>    2.637</td> <td> 0.013</td> <td>    0.071</td> <td>    0.548</td>\n",
       "</tr>\n",
       "<tr>\n",
       "  <th>Apple_investment</th>      <td>    0.0033</td> <td>    0.001</td> <td>    3.384</td> <td> 0.002</td> <td>    0.001</td> <td>    0.005</td>\n",
       "</tr>\n",
       "</table>\n",
       "<table class=\"simpletable\">\n",
       "<tr>\n",
       "  <th>Omnibus:</th>       <td> 0.661</td> <th>  Durbin-Watson:     </th> <td>   1.102</td>\n",
       "</tr>\n",
       "<tr>\n",
       "  <th>Prob(Omnibus):</th> <td> 0.718</td> <th>  Jarque-Bera (JB):  </th> <td>   0.176</td>\n",
       "</tr>\n",
       "<tr>\n",
       "  <th>Skew:</th>          <td> 0.138</td> <th>  Prob(JB):          </th> <td>   0.916</td>\n",
       "</tr>\n",
       "<tr>\n",
       "  <th>Kurtosis:</th>      <td> 3.173</td> <th>  Cond. No.          </th> <td>1.03e+05</td>\n",
       "</tr>\n",
       "</table><br/><br/>Notes:<br/>[1] Standard Errors assume that the covariance matrix of the errors is correctly specified.<br/>[2] The condition number is large, 1.03e+05. This might indicate that there are<br/>strong multicollinearity or other numerical problems."
      ],
      "text/plain": [
       "<class 'statsmodels.iolib.summary.Summary'>\n",
       "\"\"\"\n",
       "                            OLS Regression Results                            \n",
       "==============================================================================\n",
       "Dep. Variable:     market_share_apple   R-squared:                       0.676\n",
       "Model:                            OLS   Adj. R-squared:                  0.629\n",
       "Method:                 Least Squares   F-statistic:                     14.21\n",
       "Date:                Sun, 27 Apr 2025   Prob (F-statistic):           1.60e-07\n",
       "Time:                        12:58:31   Log-Likelihood:                -70.581\n",
       "No. Observations:                  40   AIC:                             153.2\n",
       "Df Residuals:                      34   BIC:                             163.3\n",
       "Df Model:                           5                                         \n",
       "Covariance Type:            nonrobust                                         \n",
       "=========================================================================================\n",
       "                            coef    std err          t      P>|t|      [0.025      0.975]\n",
       "-----------------------------------------------------------------------------------------\n",
       "Intercept                36.2099      8.745      4.141      0.000      18.439      53.981\n",
       "market_share_android     -0.3006      0.082     -3.679      0.001      -0.467      -0.135\n",
       "iphone_prices            -0.0051      0.002     -2.277      0.029      -0.010      -0.001\n",
       "android_price_average    -0.0370      0.019     -1.902      0.066      -0.077       0.003\n",
       "Samsung_Research          0.3095      0.117      2.637      0.013       0.071       0.548\n",
       "Apple_investment          0.0033      0.001      3.384      0.002       0.001       0.005\n",
       "==============================================================================\n",
       "Omnibus:                        0.661   Durbin-Watson:                   1.102\n",
       "Prob(Omnibus):                  0.718   Jarque-Bera (JB):                0.176\n",
       "Skew:                           0.138   Prob(JB):                        0.916\n",
       "Kurtosis:                       3.173   Cond. No.                     1.03e+05\n",
       "==============================================================================\n",
       "\n",
       "Notes:\n",
       "[1] Standard Errors assume that the covariance matrix of the errors is correctly specified.\n",
       "[2] The condition number is large, 1.03e+05. This might indicate that there are\n",
       "strong multicollinearity or other numerical problems.\n",
       "\"\"\""
      ]
     },
     "execution_count": 34,
     "metadata": {},
     "output_type": "execute_result"
    }
   ],
   "source": [
    "results.summary()"
   ]
  },
  {
   "cell_type": "code",
   "execution_count": null,
   "metadata": {},
   "outputs": [
    {
     "name": "stdout",
     "output_type": "stream",
     "text": []
    }
   ],
   "source": [
    "#transfer market share to coefficient\n",
    "\n",
    "#rate is the matrix times \n",
    "\n",
    "———————————\n",
    "#compete the market share, small network , apple one, andorid , price \n",
    "\n",
    "#neuron here each one is an input, and combine them into 4 intermiate nodes \n",
    "\n",
    "#final output percentage of market share\n",
    "\n",
    "#—study difference 4 inputs \n",
    "\n",
    "———————————————————————\n",
    "#market share, \n",
    "\n",
    "#predict , different models , use different regression, \n",
    "#how to predict the market share \n",
    "#maybe linear is not ideal \n",
    "#different — use last percent of data to predict \n",
    "\n",
    "#alternative way ———\n",
    "#build a predictor in a different way \n",
    "\n",
    "\n",
    "#Sarima model\n",
    "#"
   ]
  },
  {
   "cell_type": "code",
   "execution_count": null,
   "metadata": {},
   "outputs": [
    {
     "name": "stdout",
     "output_type": "stream",
     "text": [
      "                            OLS Regression Results                            \n",
      "==============================================================================\n",
      "Dep. Variable:                  Apple   R-squared:                       0.591\n",
      "Model:                            OLS   Adj. R-squared:                  0.576\n",
      "Method:                 Least Squares   F-statistic:                     38.31\n",
      "Date:                Sun, 27 Apr 2025   Prob (F-statistic):           5.10e-11\n",
      "Time:                        11:30:27   Log-Likelihood:                -121.02\n",
      "No. Observations:                  56   AIC:                             248.0\n",
      "Df Residuals:                      53   BIC:                             254.1\n",
      "Df Model:                           2                                         \n",
      "Covariance Type:            nonrobust                                         \n",
      "====================================================================================\n",
      "                       coef    std err          t      P>|t|      [0.025      0.975]\n",
      "------------------------------------------------------------------------------------\n",
      "Intercept           21.8663      0.609     35.914      0.000      20.645      23.087\n",
      "iphone_prices       -0.0069      0.002     -4.463      0.000      -0.010      -0.004\n",
      "Apple_investment     0.0017      0.000      7.780      0.000       0.001       0.002\n",
      "==============================================================================\n",
      "Omnibus:                        1.153   Durbin-Watson:                   0.550\n",
      "Prob(Omnibus):                  0.562   Jarque-Bera (JB):                1.055\n",
      "Skew:                          -0.323   Prob(JB):                        0.590\n",
      "Kurtosis:                       2.816   Cond. No.                     9.53e+03\n",
      "==============================================================================\n",
      "\n",
      "Notes:\n",
      "[1] Standard Errors assume that the covariance matrix of the errors is correctly specified.\n",
      "[2] The condition number is large, 9.53e+03. This might indicate that there are\n",
      "strong multicollinearity or other numerical problems.\n"
     ]
    }
   ],
   "source": [
    "# Fit regression model (using the natural log of one of the regressors) Regression 3 \n",
    "#Linear Regression for Apple without Samsung\n",
    "results = smf.ols('Apple ~ + iphone_prices + Apple_investment ', data=marketshare).fit()\n",
    "print(results.summary())"
   ]
  },
  {
   "cell_type": "code",
   "execution_count": null,
   "metadata": {},
   "outputs": [
    {
     "name": "stdout",
     "output_type": "stream",
     "text": [
      "                            OLS Regression Results                            \n",
      "==============================================================================\n",
      "Dep. Variable:                Android   R-squared:                       0.848\n",
      "Model:                            OLS   Adj. R-squared:                  0.842\n",
      "Method:                 Least Squares   F-statistic:                     147.3\n",
      "Date:                Sun, 27 Apr 2025   Prob (F-statistic):           2.27e-22\n",
      "Time:                        11:30:30   Log-Likelihood:                -189.50\n",
      "No. Observations:                  56   AIC:                             385.0\n",
      "Df Residuals:                      53   BIC:                             391.1\n",
      "Df Model:                           2                                         \n",
      "Covariance Type:            nonrobust                                         \n",
      "=========================================================================================\n",
      "                            coef    std err          t      P>|t|      [0.025      0.975]\n",
      "-----------------------------------------------------------------------------------------\n",
      "Intercept               100.0224      7.134     14.021      0.000      85.714     114.331\n",
      "android_price_average    -0.2747      0.023    -11.846      0.000      -0.321      -0.228\n",
      "Samsung_Research          1.2359      0.095     12.985      0.000       1.045       1.427\n",
      "==============================================================================\n",
      "Omnibus:                        3.259   Durbin-Watson:                   0.383\n",
      "Prob(Omnibus):                  0.196   Jarque-Bera (JB):                2.914\n",
      "Skew:                          -0.471   Prob(JB):                        0.233\n",
      "Kurtosis:                       2.398   Cond. No.                     2.09e+03\n",
      "==============================================================================\n",
      "\n",
      "Notes:\n",
      "[1] Standard Errors assume that the covariance matrix of the errors is correctly specified.\n",
      "[2] The condition number is large, 2.09e+03. This might indicate that there are\n",
      "strong multicollinearity or other numerical problems.\n"
     ]
    }
   ],
   "source": [
    "# Fit regression model (using the natural log of one of the regressors)\n",
    "#Linear Regression for Android without Apple\n",
    "results = smf.ols('Android ~ + android_price_average + Samsung_Research ', data=marketshare).fit()\n",
    "print(results.summary())"
   ]
  },
  {
   "cell_type": "code",
   "execution_count": null,
   "metadata": {},
   "outputs": [
    {
     "name": "stdout",
     "output_type": "stream",
     "text": [
      "Mean Squared Error: 1.6168790248775349\n",
      "R^2 Score: -0.5999025588198097\n"
     ]
    }
   ],
   "source": [
    "#Linear Regression , Decision Tree, Random Forest, Neural Network\n",
    "#for Android\n",
    "from sklearn.model_selection import train_test_split\n",
    "from sklearn.ensemble import RandomForestRegressor\n",
    "from sklearn.metrics import mean_squared_error\n",
    "\n",
    "df=pd.DataFrame(marketshare)\n",
    "\n",
    "X = df [['Apple', 'Apple_investment', 'Samsung_Research', 'android_price_average', 'iphone_prices']]\n",
    "Y= df ['Android']\n",
    "\n",
    "#Split data into training and testing sets\n",
    "X_train = X.iloc[0:40,:]\n",
    "X_test = X.iloc[40:,:]\n",
    "y_train = Y.iloc[0:40]\n",
    "y_test = Y.iloc[40:]\n",
    "\n",
    "\n",
    "\n",
    "model = RandomForestRegressor(n_estimators=100, random_state=42, max_depth=8)\n",
    "model.fit(X_train, y_train)\n",
    "y_pred = model.predict(X_test)\n",
    "mse = mean_squared_error(y_test, y_pred)\n",
    "print(f\"Mean Squared Error: {mse}\")\n",
    "r2 = model.score(X_test, y_test)\n",
    "print(f\"R^2 Score: {r2}\")\n",
    "\n",
    "#Time Series models--- look at those \n"
   ]
  },
  {
   "cell_type": "code",
   "execution_count": null,
   "metadata": {},
   "outputs": [
    {
     "name": "stdout",
     "output_type": "stream",
     "text": [
      "Mean Squared Error: 3.212872485624951\n",
      "R^2 Score: -2.343500163700268\n"
     ]
    }
   ],
   "source": [
    "#Linear Regression , Decision Tree, Random Forest, Neural Network\n",
    "#for Android\n",
    "from sklearn.model_selection import train_test_split\n",
    "from sklearn.ensemble import RandomForestRegressor\n",
    "from sklearn.metrics import mean_squared_error\n",
    "\n",
    "df=pd.DataFrame(marketshare)\n",
    "\n",
    "X = df [['Android', 'Apple_investment', 'Samsung_Research', 'android_price_average', 'iphone_prices']]\n",
    "Y= df ['Apple']\n",
    "\n",
    "#Split data into training and testing sets\n",
    "X_train = X.iloc[0:40,:]\n",
    "X_test = X.iloc[40:,:]\n",
    "y_train = Y.iloc[0:40]\n",
    "y_test = Y.iloc[40:]\n",
    "\n",
    "\n",
    "\n",
    "model = RandomForestRegressor(n_estimators=100, random_state=42)\n",
    "model.fit(X_train, y_train)\n",
    "y_pred = model.predict(X_test)\n",
    "mse = mean_squared_error(y_test, y_pred)\n",
    "print(f\"Mean Squared Error: {mse}\")\n",
    "r2 = model.score(X_test, y_test)\n",
    "print(f\"R^2 Score: {r2}\")\n"
   ]
  },
  {
   "cell_type": "code",
   "execution_count": null,
   "metadata": {},
   "outputs": [
    {
     "name": "stderr",
     "output_type": "stream",
     "text": [
      "/opt/anaconda3/lib/python3.8/site-packages/statsmodels/tsa/base/tsa_model.py:524: ValueWarning: No frequency information was provided, so inferred frequency QS-OCT will be used.\n",
      "  warnings.warn('No frequency information was'\n",
      "/opt/anaconda3/lib/python3.8/site-packages/statsmodels/tsa/base/tsa_model.py:524: ValueWarning: No frequency information was provided, so inferred frequency QS-OCT will be used.\n",
      "  warnings.warn('No frequency information was'\n",
      "/opt/anaconda3/lib/python3.8/site-packages/statsmodels/tsa/base/tsa_model.py:524: ValueWarning: No frequency information was provided, so inferred frequency QS-OCT will be used.\n",
      "  warnings.warn('No frequency information was'\n"
     ]
    },
    {
     "name": "stdout",
     "output_type": "stream",
     "text": [
      "                               SARIMAX Results                                \n",
      "==============================================================================\n",
      "Dep. Variable:     market_share_apple   No. Observations:                   40\n",
      "Model:                 ARIMA(0, 0, 1)   Log Likelihood                 -66.147\n",
      "Date:                Sun, 27 Apr 2025   AIC                            148.294\n",
      "Time:                        12:05:18   BIC                            161.805\n",
      "Sample:                    01-01-2011   HQIC                           153.179\n",
      "                         - 10-01-2020                                         \n",
      "Covariance Type:                  opg                                         \n",
      "=========================================================================================\n",
      "                            coef    std err          z      P>|z|      [0.025      0.975]\n",
      "-----------------------------------------------------------------------------------------\n",
      "const                    36.2078      8.953      4.044      0.000      18.660      53.755\n",
      "market_share_android     -0.2732      0.085     -3.209      0.001      -0.440      -0.106\n",
      "Apple_investment          0.0033      0.001      2.233      0.026       0.000       0.006\n",
      "Samsung_Research          0.1792      0.141      1.270      0.204      -0.097       0.456\n",
      "android_price_average    -0.0315      0.020     -1.570      0.116      -0.071       0.008\n",
      "iphone_prices            -0.0045      0.004     -1.235      0.217      -0.012       0.003\n",
      "ma.L1                     0.5506      0.154      3.575      0.000       0.249       0.853\n",
      "sigma2                    1.6953      0.499      3.397      0.001       0.717       2.673\n",
      "===================================================================================\n",
      "Ljung-Box (L1) (Q):                   0.02   Jarque-Bera (JB):                 1.01\n",
      "Prob(Q):                              0.90   Prob(JB):                         0.60\n",
      "Heteroskedasticity (H):               0.27   Skew:                            -0.02\n",
      "Prob(H) (two-sided):                  0.03   Kurtosis:                         3.78\n",
      "===================================================================================\n",
      "\n",
      "Warnings:\n",
      "[1] Covariance matrix calculated using the outer product of gradients (complex-step).\n"
     ]
    },
    {
     "data": {
      "image/png": "[encoded data removed]",
      "text/plain": [
       "<Figure size 432x288 with 1 Axes>"
      ]
     },
     "metadata": {
      "needs_background": "light"
     },
     "output_type": "display_data"
    },
    {
     "name": "stdout",
     "output_type": "stream",
     "text": [
      "Root Mean Squared Error: 7.5453154845820265\n"
     ]
    },
    {
     "ename": "ImportError",
     "evalue": "cannot import name 'mean_absolute_percentage_error' from 'sklearn.metrics' (/opt/anaconda3/lib/python3.8/site-packages/sklearn/metrics/__init__.py)",
     "output_type": "error",
     "traceback": [
      "\u001b[0;31m---------------------------------------------------------------------------\u001b[0m",
      "\u001b[0;31mImportError\u001b[0m                               Traceback (most recent call last)",
      "\u001b[0;32m<ipython-input-28-336442c4b898>\u001b[0m in \u001b[0;36m<module>\u001b[0;34m\u001b[0m\n\u001b[1;32m     85\u001b[0m \u001b[0mprint\u001b[0m\u001b[0;34m(\u001b[0m\u001b[0;34mf\"Root Mean Squared Error: {rmse}\"\u001b[0m\u001b[0;34m)\u001b[0m\u001b[0;34m\u001b[0m\u001b[0;34m\u001b[0m\u001b[0m\n\u001b[1;32m     86\u001b[0m \u001b[0;31m# Mean Average Percentage Error\u001b[0m\u001b[0;34m\u001b[0m\u001b[0;34m\u001b[0m\u001b[0;34m\u001b[0m\u001b[0m\n\u001b[0;32m---> 87\u001b[0;31m \u001b[0;32mfrom\u001b[0m \u001b[0msklearn\u001b[0m\u001b[0;34m.\u001b[0m\u001b[0mmetrics\u001b[0m \u001b[0;32mimport\u001b[0m \u001b[0mmean_absolute_percentage_error\u001b[0m\u001b[0;34m\u001b[0m\u001b[0;34m\u001b[0m\u001b[0m\n\u001b[0m\u001b[1;32m     88\u001b[0m \u001b[0mmape\u001b[0m \u001b[0;34m=\u001b[0m \u001b[0mmean_absolute_percentage_error\u001b[0m\u001b[0;34m(\u001b[0m\u001b[0my_test\u001b[0m\u001b[0;34m,\u001b[0m \u001b[0mforecast\u001b[0m\u001b[0;34m)\u001b[0m\u001b[0;34m\u001b[0m\u001b[0;34m\u001b[0m\u001b[0m\n\u001b[1;32m     89\u001b[0m \u001b[0mprint\u001b[0m\u001b[0;34m(\u001b[0m\u001b[0;34mf\"Mean Absolute Percentage Error: {mape}\"\u001b[0m\u001b[0;34m)\u001b[0m\u001b[0;34m\u001b[0m\u001b[0;34m\u001b[0m\u001b[0m\n",
      "\u001b[0;31mImportError\u001b[0m: cannot import name 'mean_absolute_percentage_error' from 'sklearn.metrics' (/opt/anaconda3/lib/python3.8/site-packages/sklearn/metrics/__init__.py)"
     ]
    }
   ],
   "source": [
    "#ARIMA model test if the \n",
    "#Apple \n",
    "#How do I add the rest of the constraints to this model?\n",
    "import pandas as pd\n",
    "import numpy as np\n",
    "from statsmodels.tsa.arima.model import ARIMA\n",
    "from sklearn.metrics import mean_squared_error\n",
    "from math import sqrt\n",
    "import matplotlib.pyplot as plt\n",
    "\n",
    "data = { 'date':['2011-Q1', '2011-Q2', '2011-Q3', '2011-Q4', '2012-Q1', '2012-Q2', '2012-Q3', '2012-Q4', '2013-Q1', '2013-Q2', '2013-Q3', '2013-Q4', '2014-Q1', '2014-Q2', '2014-Q3', '2014-Q4', '2015-Q1', '2015-Q2', '2015-Q3', '2015-Q4', '2016-Q1', '2016-Q2', '2016-Q3', '2016-Q4', '2017-Q1', '2017-Q2', '2017-Q3', '2017-Q4', '2018-Q1', '2018-Q2', '2018-Q3', '2018-Q4',' 2019-Q1','2019-Q2','2019-Q3','2019-Q4','2020- Q1',' 2020- Q2',' 2020- Q3',' 2020- Q4',' 2021- Q1',' 2021- Q2',' 2021- Q3',' 2021- Q4',' 2022- Q1',' 2022- Q2',' 2022- Q3',' 2022- Q4',' 2023- Q1',' 2023- Q2',' 2023- Q3',' 2023- Q4',' 2024- Q1',' 2024- Q2',' 2024- Q3',' 2024- Q4'], \n",
    "         'market_share_apple':['24.38','20.04','21.21','22.71','23.99','24.56','23.63','23.26','27.14','25.09','22.73','21.82','23.6','24.29','24.73','23.51','22.64','20.22','18.14','19.21','18.82','20.33','19.38','18.89','19.5','19.35','19.37','19.91','20.83','18.91','20.66','21.98','22.4','22.04','22.48','24.79','27.03','25.26','24.98','26.91','27.41','26.35','26.75','29.24','27.57','27.22','27.8','26.98','28.42','28.44','29.58','28.8','28.46','27.16','27.61','26.04'],\n",
    "         'market_share_android': ['15.82','17.92','20.9','21.83','23.61','25.07','29.25','33.19','37.23','37.93','39.82','42.99','48.26','52.98','55.7','59.15','61.94','63.75','66.77','65.9','68.04','68.39','69.68','71.97','71.61','72.89','73.52','73.54','74.24','76.99','76.61','75.16','75.33','76.03','76.24','74.13','72.26','74.14','74.44','72.48','71.83','72.83','72.44','70.01','71.7','72.12','71.55','72.37','70.88','70.79','69.74','70.48','70.78','72.17','71.84','73.49'],\n",
    "         'Apple_investment':['581','628','645','758','841','876','628','906','1,010','1,119','1,178','1,168','1,330','1,422','1,603','1,686','1,895','1,918','2,034','2,220','2,404','2,511','2,560','2,570','2,871','2,776','2,937','2,997','3407','3378','3701','3750','3948','4257','4110','4451','4565','4758','4978','5163','5262','5717','5772','6306','6387','6797','6761','7709','7457','7442','7307',' $7,696 ',' $7,903',' $8,006',' $7,765',' $8,268'],\n",
    "         'Samsung_Research': ['16.14','17.39','16.75','18.85','18.8','19.77','20.58','20.53','22.92','24.45','25.17','25.96','25.28','25.63','22.92735','25.16807','24.05','23.0894','23.55','23.838708','24.6','24.19','24.19','24.39','25.974546','27.352506','28.799364','30.521814','29.074956','30.848426','35.18','36.102552','33.76002','34.10451','35.344674','33.7241544','36.929328','35.964756','36.584838','35.964756','37.480512','37.067124','35.206878','44.577006','40.787616','43.06125','43.199046','44.545946','45.334884','49.656','48.297498','52.01799','53.878236','49.60656','48.297498','51.66735'],\n",
    "         'android_price_average': ['380,','380','380','380','380','320','320','320','276','276','276','276','254','254','254','254','232','232','232','232','220','220','220','220','235','235','235','235','254','254','254','254','270','270','270','270','292','292','292','292','296','296','296','296','300','300','300','300','305','305','305','305','305','305', '305','305'],\n",
    "         'iphone_prices': ['199','199','199','199','199','199','199','199','99','99','99','99','249','249','249','249','249','249','249','249','606','606','606','606','832','832','832','832','949','949','949','949','933','933','933','933','999','999','999','999','899','899','899','899','949','949','949','949','974','974','974','974','974','974','974','974']\n",
    "\n",
    "    \n",
    "}\n",
    "\n",
    "# Strip leading/trailing spaces from 'date' strings\n",
    "data['date'] = [d.strip().replace(' ', '') for d in data['date']]\n",
    "\n",
    "\n",
    "# Convert 'date' to datetime by parsing year and quarter\n",
    "def parse_quarter(date_str):\n",
    "    year, quarter = date_str.split('-')\n",
    "    quarter_start_month = {'Q1': '01', 'Q2': '04', 'Q3': '07', 'Q4': '10'}\n",
    "    return f\"{year}-{quarter_start_month[quarter]}-01\"\n",
    "\n",
    "df = pd.DataFrame(data)\n",
    "df['date'] = pd.to_datetime(df['date'].apply(parse_quarter))\n",
    "df.set_index('date', inplace=True)\n",
    "\n",
    "# Convert market share and other columns to numeric, handling errors \n",
    "df['market_share_apple'] = pd.to_numeric(df['market_share_apple'], errors='coerce')\n",
    "df['market_share_android'] = pd.to_numeric(df['market_share_android'], errors='coerce')\n",
    "df['Apple_investment'] = pd.to_numeric(df['Apple_investment'].str.replace(',', '').str.replace('$', ''), errors='coerce')\n",
    "df['Samsung_Research'] = pd.to_numeric(df['Samsung_Research'], errors='coerce')\n",
    "df['android_price_average'] = pd.to_numeric(df['android_price_average'].str.replace(',', ''), errors='coerce')\n",
    "df['iphone_prices'] = pd.to_numeric(df['iphone_prices'], errors='coerce')\n",
    "\n",
    "# Drop rows with missing or invalid data\n",
    "df.dropna(inplace=True)\n",
    "\n",
    "Y = df['market_share_apple']\n",
    "X = df[['market_share_android','Apple_investment', 'Samsung_Research', 'android_price_average', 'iphone_prices']]\n",
    "\n",
    "# Reset index to access 'date' column for forecasting\n",
    "df.reset_index(inplace=True)\n",
    "\n",
    "# Split data into training and testing sets\n",
    "X_train = X.iloc[0:40,:]\n",
    "X_test = X.iloc[40:,:]\n",
    "y_train = Y.iloc[0:40]\n",
    "y_test = Y.iloc[40:]\n",
    "\n",
    "#confirmed downwards \n",
    "from statsmodels.tsa.arima.model import ARIMA\n",
    "model = ARIMA(y_train, exog=X_train, order=(0, 0, 1))\n",
    "\n",
    "model_fit = model.fit()\n",
    "print(model_fit.summary())\n",
    "\n",
    "# Forecast the next 4 quarters\n",
    "forecast = model_fit.forecast(steps=len(X_test), exog=X_test)\n",
    "\n",
    "# Create a datetime index for the forecast\n",
    "forecast_index = pd.date_range(start=df['date'].iloc[39], periods=len(X_test) + 1, freq='Q')[1:]\n",
    "\n",
    "# Plot the data\n",
    "import matplotlib.pyplot as plt\n",
    "plt.plot(df['date'], df['market_share_apple'], label='Actual')\n",
    "plt.plot(forecast_index, forecast, label='Forecast', color='red')\n",
    "plt.xlabel('Date')\n",
    "plt.ylabel('Market Share')\n",
    "plt.title('Apple Market Share Forecast')\n",
    "plt.legend()\n",
    "plt.show()\n",
    "   \n",
    "# Root Squared Error\n",
    "from sklearn.metrics import mean_squared_error\n",
    "from math import sqrt\n",
    "rmse = sqrt(mean_squared_error(y_test, forecast))\n",
    "print(f\"Root Mean Squared Error: {rmse}\")\n",
    "# Mean Average Percentage Error\n",
    "from sklearn.metrics import mean_absolute_percentage_error\n",
    "mape = mean_absolute_percentage_error(y_test, forecast)\n",
    "print(f\"Mean Absolute Percentage Error: {mape}\")\n",
    "\n",
    "#stationarity == not stationary \n",
    "#might want to do -- play with the 1,1,1 ---\n",
    "# look at what is seasonal order is\n",
    "#looks back and see what happened before, and uses that to predict"
   ]
  },
  {
   "cell_type": "code",
   "execution_count": null,
   "metadata": {},
   "outputs": [
    {
     "ename": "ModuleNotFoundError",
     "evalue": "No module named 'pmdarima'",
     "output_type": "error",
     "traceback": [
      "\u001b[0;31m---------------------------------------------------------------------------\u001b[0m",
      "\u001b[0;31mModuleNotFoundError\u001b[0m                       Traceback (most recent call last)",
      "\u001b[0;32m<ipython-input-27-b3e3e3054e69>\u001b[0m in \u001b[0;36m<module>\u001b[0;34m\u001b[0m\n\u001b[1;32m      1\u001b[0m \u001b[0;31m#will tell me automatically what tthe best parameters are based of the grid search\u001b[0m\u001b[0;34m\u001b[0m\u001b[0;34m\u001b[0m\u001b[0;34m\u001b[0m\u001b[0m\n\u001b[0;32m----> 2\u001b[0;31m \u001b[0;32mfrom\u001b[0m \u001b[0mpmdarima\u001b[0m \u001b[0;32mimport\u001b[0m \u001b[0mauto_arima\u001b[0m\u001b[0;34m\u001b[0m\u001b[0;34m\u001b[0m\u001b[0m\n\u001b[0m\u001b[1;32m      3\u001b[0m \u001b[0;34m\u001b[0m\u001b[0m\n\u001b[1;32m      4\u001b[0m \u001b[0mmodel\u001b[0m \u001b[0;34m=\u001b[0m \u001b[0mauto_arima\u001b[0m\u001b[0;34m(\u001b[0m\u001b[0my_train\u001b[0m\u001b[0;34m,\u001b[0m \u001b[0mX_train\u001b[0m\u001b[0;34m,\u001b[0m \u001b[0mseasonal\u001b[0m\u001b[0;34m=\u001b[0m\u001b[0;32mFalse\u001b[0m\u001b[0;34m,\u001b[0m \u001b[0mstepwise\u001b[0m\u001b[0;34m=\u001b[0m\u001b[0;32mTrue\u001b[0m\u001b[0;34m,\u001b[0m \u001b[0msuppress_warnings\u001b[0m\u001b[0;34m=\u001b[0m\u001b[0;32mTrue\u001b[0m\u001b[0;34m)\u001b[0m\u001b[0;34m\u001b[0m\u001b[0;34m\u001b[0m\u001b[0m\n\u001b[1;32m      5\u001b[0m \u001b[0mprint\u001b[0m\u001b[0;34m(\u001b[0m\u001b[0mmodel\u001b[0m\u001b[0;34m.\u001b[0m\u001b[0msummary\u001b[0m\u001b[0;34m(\u001b[0m\u001b[0;34m)\u001b[0m\u001b[0;34m)\u001b[0m\u001b[0;34m\u001b[0m\u001b[0;34m\u001b[0m\u001b[0m\n",
      "\u001b[0;31mModuleNotFoundError\u001b[0m: No module named 'pmdarima'"
     ]
    }
   ],
   "source": [
    "#will tell me automatically what tthe best parameters are based of the grid search\n",
    "from pmdarima import auto_arima\n",
    "\n",
    "model = auto_arima(y_train, X_train, seasonal=False, stepwise=True, suppress_warnings=True)\n",
    "print(model.summary())"
   ]
  },
  {
   "cell_type": "code",
   "execution_count": null,
   "metadata": {},
   "outputs": [],
   "source": [
    "#will tell me automatically what tthe best parameters are based of the grid search for Android\n",
    "Y = df['market_share_android']\n",
    "X = df[['market_share_apple','Apple_investment', 'Samsung_Research', 'android_price_average', 'iphone_prices']]\n",
    "X_train = X.iloc[0:40,:]\n",
    "X_test = X.iloc[40:,:]\n",
    "y_train = Y.iloc[0:40]\n",
    "y_test = Y.iloc[40:]\n",
    "\n",
    "from pmdarima import auto_arima\n",
    "\n",
    "model = auto_arima(y_train, X_train, seasonal=False, stepwise=True, suppress_warnings=True)\n",
    "print(model.summary())"
   ]
  },
  {
   "cell_type": "markdown",
   "metadata": {},
   "source": [
    "Compare AIC between one model versus the other, AIC is way to comparing models between \n",
    "\n",
    "\n",
    "Train test split\n"
   ]
  },
  {
   "cell_type": "code",
   "execution_count": null,
   "metadata": {},
   "outputs": [
    {
     "name": "stderr",
     "output_type": "stream",
     "text": [
      "/opt/anaconda3/lib/python3.8/site-packages/statsmodels/tsa/base/tsa_model.py:524: ValueWarning: No frequency information was provided, so inferred frequency QS-OCT will be used.\n",
      "  warnings.warn('No frequency information was'\n",
      "/opt/anaconda3/lib/python3.8/site-packages/statsmodels/tsa/base/tsa_model.py:524: ValueWarning: No frequency information was provided, so inferred frequency QS-OCT will be used.\n",
      "  warnings.warn('No frequency information was'\n",
      "/opt/anaconda3/lib/python3.8/site-packages/statsmodels/tsa/base/tsa_model.py:524: ValueWarning: No frequency information was provided, so inferred frequency QS-OCT will be used.\n",
      "  warnings.warn('No frequency information was'\n"
     ]
    },
    {
     "name": "stdout",
     "output_type": "stream",
     "text": [
      "                                SARIMAX Results                                 \n",
      "================================================================================\n",
      "Dep. Variable:     market_share_android   No. Observations:                   40\n",
      "Model:                   ARIMA(1, 0, 2)   Log Likelihood                 -90.065\n",
      "Date:                  Sun, 27 Apr 2025   AIC                            200.130\n",
      "Time:                          12:14:56   BIC                            217.019\n",
      "Sample:                      01-01-2011   HQIC                           206.237\n",
      "                           - 10-01-2020                                         \n",
      "Covariance Type:                    opg                                         \n",
      "=========================================================================================\n",
      "                            coef    std err          z      P>|z|      [0.025      0.975]\n",
      "-----------------------------------------------------------------------------------------\n",
      "const                   106.9294      9.423     11.348      0.000      88.461     125.398\n",
      "market_share_apple       -1.0525      0.227     -4.641      0.000      -1.497      -0.608\n",
      "Apple_investment          0.0088      0.002      3.974      0.000       0.004       0.013\n",
      "Samsung_Research          0.0751      0.293      0.257      0.797      -0.498       0.649\n",
      "android_price_average    -0.1868      0.014    -13.276      0.000      -0.214      -0.159\n",
      "iphone_prices             0.0034      0.006      0.555      0.579      -0.009       0.015\n",
      "ar.L1                     0.2436      1.045      0.233      0.816      -1.804       2.291\n",
      "ma.L1                     0.1583      1.037      0.153      0.879      -1.875       2.191\n",
      "ma.L2                     0.1424      0.440      0.324      0.746      -0.720       1.005\n",
      "sigma2                    4.0561      0.933      4.345      0.000       2.227       5.886\n",
      "===================================================================================\n",
      "Ljung-Box (L1) (Q):                   0.30   Jarque-Bera (JB):                 7.42\n",
      "Prob(Q):                              0.59   Prob(JB):                         0.02\n",
      "Heteroskedasticity (H):               0.28   Skew:                            -0.69\n",
      "Prob(H) (two-sided):                  0.03   Kurtosis:                         4.60\n",
      "===================================================================================\n",
      "\n",
      "Warnings:\n",
      "[1] Covariance matrix calculated using the outer product of gradients (complex-step).\n"
     ]
    },
    {
     "data": {
      "image/png": "[encoded data removed]",
      "text/plain": [
       "<Figure size 432x288 with 1 Axes>"
      ]
     },
     "metadata": {
      "needs_background": "light"
     },
     "output_type": "display_data"
    },
    {
     "name": "stdout",
     "output_type": "stream",
     "text": [
      "Root Mean Squared Error: 19.61982655562467\n"
     ]
    },
    {
     "ename": "ImportError",
     "evalue": "cannot import name 'mean_absolute_percentage_error' from 'sklearn.metrics' (/opt/anaconda3/lib/python3.8/site-packages/sklearn/metrics/__init__.py)",
     "output_type": "error",
     "traceback": [
      "\u001b[0;31m---------------------------------------------------------------------------\u001b[0m",
      "\u001b[0;31mImportError\u001b[0m                               Traceback (most recent call last)",
      "\u001b[0;32m<ipython-input-29-5f2a768d33cb>\u001b[0m in \u001b[0;36m<module>\u001b[0;34m\u001b[0m\n\u001b[1;32m     78\u001b[0m \u001b[0mprint\u001b[0m\u001b[0;34m(\u001b[0m\u001b[0;34mf\"Root Mean Squared Error: {rmse}\"\u001b[0m\u001b[0;34m)\u001b[0m\u001b[0;34m\u001b[0m\u001b[0;34m\u001b[0m\u001b[0m\n\u001b[1;32m     79\u001b[0m \u001b[0;31m# Mean Average Percentage Error\u001b[0m\u001b[0;34m\u001b[0m\u001b[0;34m\u001b[0m\u001b[0;34m\u001b[0m\u001b[0m\n\u001b[0;32m---> 80\u001b[0;31m \u001b[0;32mfrom\u001b[0m \u001b[0msklearn\u001b[0m\u001b[0;34m.\u001b[0m\u001b[0mmetrics\u001b[0m \u001b[0;32mimport\u001b[0m \u001b[0mmean_absolute_percentage_error\u001b[0m\u001b[0;34m\u001b[0m\u001b[0;34m\u001b[0m\u001b[0m\n\u001b[0m\u001b[1;32m     81\u001b[0m \u001b[0mmape\u001b[0m \u001b[0;34m=\u001b[0m \u001b[0mmean_absolute_percentage_error\u001b[0m\u001b[0;34m(\u001b[0m\u001b[0my_test\u001b[0m\u001b[0;34m,\u001b[0m \u001b[0mforecast\u001b[0m\u001b[0;34m)\u001b[0m\u001b[0;34m\u001b[0m\u001b[0;34m\u001b[0m\u001b[0m\n\u001b[1;32m     82\u001b[0m \u001b[0mprint\u001b[0m\u001b[0;34m(\u001b[0m\u001b[0;34mf\"Mean Absolute Percentage Error: {mape}\"\u001b[0m\u001b[0;34m)\u001b[0m\u001b[0;34m\u001b[0m\u001b[0;34m\u001b[0m\u001b[0m\n",
      "\u001b[0;31mImportError\u001b[0m: cannot import name 'mean_absolute_percentage_error' from 'sklearn.metrics' (/opt/anaconda3/lib/python3.8/site-packages/sklearn/metrics/__init__.py)"
     ]
    }
   ],
   "source": [
    "#ARIMA model test if the \n",
    "#Android\n",
    "#How do I add the rest of the constraints to this model?\n",
    "\n",
    "data = { 'date':['2011-Q1', '2011-Q2', '2011-Q3', '2011-Q4', '2012-Q1', '2012-Q2', '2012-Q3', '2012-Q4', '2013-Q1', '2013-Q2', '2013-Q3', '2013-Q4', '2014-Q1', '2014-Q2', '2014-Q3', '2014-Q4', '2015-Q1', '2015-Q2', '2015-Q3', '2015-Q4', '2016-Q1', '2016-Q2', '2016-Q3', '2016-Q4', '2017-Q1', '2017-Q2', '2017-Q3', '2017-Q4', '2018-Q1', '2018-Q2', '2018-Q3', '2018-Q4',' 2019-Q1','2019-Q2','2019-Q3','2019-Q4','2020- Q1',' 2020- Q2',' 2020- Q3',' 2020- Q4',' 2021- Q1',' 2021- Q2',' 2021- Q3',' 2021- Q4',' 2022- Q1',' 2022- Q2',' 2022- Q3',' 2022- Q4',' 2023- Q1',' 2023- Q2',' 2023- Q3',' 2023- Q4',' 2024- Q1',' 2024- Q2',' 2024- Q3',' 2024- Q4'], \n",
    "         'market_share_apple':['24.38','20.04','21.21','22.71','23.99','24.56','23.63','23.26','27.14','25.09','22.73','21.82','23.6','24.29','24.73','23.51','22.64','20.22','18.14','19.21','18.82','20.33','19.38','18.89','19.5','19.35','19.37','19.91','20.83','18.91','20.66','21.98','22.4','22.04','22.48','24.79','27.03','25.26','24.98','26.91','27.41','26.35','26.75','29.24','27.57','27.22','27.8','26.98','28.42','28.44','29.58','28.8','28.46','27.16','27.61','26.04'],\n",
    "         'market_share_android': ['15.82','17.92','20.9','21.83','23.61','25.07','29.25','33.19','37.23','37.93','39.82','42.99','48.26','52.98','55.7','59.15','61.94','63.75','66.77','65.9','68.04','68.39','69.68','71.97','71.61','72.89','73.52','73.54','74.24','76.99','76.61','75.16','75.33','76.03','76.24','74.13','72.26','74.14','74.44','72.48','71.83','72.83','72.44','70.01','71.7','72.12','71.55','72.37','70.88','70.79','69.74','70.48','70.78','72.17','71.84','73.49'],\n",
    "         'Apple_investment':['581','628','645','758','841','876','628','906','1,010','1,119','1,178','1,168','1,330','1,422','1,603','1,686','1,895','1,918','2,034','2,220','2,404','2,511','2,560','2,570','2,871','2,776','2,937','2,997','3407','3378','3701','3750','3948','4257','4110','4451','4565','4758','4978','5163','5262','5717','5772','6306','6387','6797','6761','7709','7457','7442','7307',' $7,696 ',' $7,903',' $8,006',' $7,765',' $8,268'],\n",
    "         'Samsung_Research': ['16.14','17.39','16.75','18.85','18.8','19.77','20.58','20.53','22.92','24.45','25.17','25.96','25.28','25.63','22.92735','25.16807','24.05','23.0894','23.55','23.838708','24.6','24.19','24.19','24.39','25.974546','27.352506','28.799364','30.521814','29.074956','30.848426','35.18','36.102552','33.76002','34.10451','35.344674','33.7241544','36.929328','35.964756','36.584838','35.964756','37.480512','37.067124','35.206878','44.577006','40.787616','43.06125','43.199046','44.545946','45.334884','49.656','48.297498','52.01799','53.878236','49.60656','48.297498','51.66735'],\n",
    "         'android_price_average': ['380,','380','380','380','380','320','320','320','276','276','276','276','254','254','254','254','232','232','232','232','220','220','220','220','235','235','235','235','254','254','254','254','270','270','270','270','292','292','292','292','296','296','296','296','300','300','300','300','305','305','305','305','305','305', '305','305'],\n",
    "         'iphone_prices': ['199','199','199','199','199','199','199','199','99','99','99','99','249','249','249','249','249','249','249','249','606','606','606','606','832','832','832','832','949','949','949','949','933','933','933','933','999','999','999','999','899','899','899','899','949','949','949','949','974','974','974','974','974','974','974','974']\n",
    "\n",
    "    \n",
    "}\n",
    "# Strip leading/trailing spaces from 'date' strings\n",
    "data['date'] = [d.strip().replace(' ', '') for d in data['date']]\n",
    "\n",
    "\n",
    "# Convert 'date' to datetime by parsing year and quarter\n",
    "def parse_quarter(date_str):\n",
    "    year, quarter = date_str.split('-')\n",
    "    quarter_start_month = {'Q1': '01', 'Q2': '04', 'Q3': '07', 'Q4': '10'}\n",
    "    return f\"{year}-{quarter_start_month[quarter]}-01\"\n",
    "\n",
    "df = pd.DataFrame(data)\n",
    "df['date'] = pd.to_datetime(df['date'].apply(parse_quarter))\n",
    "df.set_index('date', inplace=True)\n",
    "\n",
    "# Convert market share and other columns to numeric, handling errors \n",
    "df['market_share_apple'] = pd.to_numeric(df['market_share_apple'], errors='coerce')\n",
    "df['market_share_android'] = pd.to_numeric(df['market_share_android'], errors='coerce')\n",
    "df['Apple_investment'] = pd.to_numeric(df['Apple_investment'].str.replace(',', '').str.replace('$', ''), errors='coerce')\n",
    "df['Samsung_Research'] = pd.to_numeric(df['Samsung_Research'], errors='coerce')\n",
    "df['android_price_average'] = pd.to_numeric(df['android_price_average'].str.replace(',', ''), errors='coerce')\n",
    "df['iphone_prices'] = pd.to_numeric(df['iphone_prices'], errors='coerce')\n",
    "\n",
    "# Drop rows with missing or invalid data\n",
    "df.dropna(inplace=True)\n",
    "\n",
    "Y = df['market_share_android']\n",
    "X = df[['market_share_apple','Apple_investment', 'Samsung_Research', 'android_price_average', 'iphone_prices']]\n",
    "\n",
    "# Reset index to access 'date' column for forecasting\n",
    "df.reset_index(inplace=True)\n",
    "\n",
    "# Split data into training and testing sets\n",
    "X_train = X.iloc[0:40,:]\n",
    "X_test = X.iloc[40:,:]\n",
    "y_train = Y.iloc[0:40]\n",
    "y_test = Y.iloc[40:]\n",
    "\n",
    "from statsmodels.tsa.arima.model import ARIMA\n",
    "model = ARIMA(y_train, exog=X_train, order=(1, 0, 2))\n",
    "\n",
    "model_fit = model.fit()\n",
    "print(model_fit.summary())\n",
    "\n",
    "# Forecast the next 4 quarters\n",
    "forecast = model_fit.forecast(steps=len(X_test), exog=X_test)\n",
    "\n",
    "# Create a datetime index for the forecast\n",
    "forecast_index = pd.date_range(start=df['date'].iloc[39], periods=len(X_test) + 1, freq='Q')[1:]\n",
    "\n",
    "# Plot the data\n",
    "import matplotlib.pyplot as plt\n",
    "plt.plot(df['date'], df['market_share_android'], label='Actual')\n",
    "plt.plot(forecast_index, forecast, label='Forecast', color='red')\n",
    "plt.xlabel('Date')\n",
    "plt.ylabel('Market Share')\n",
    "plt.title('Android Market Share Forecast')\n",
    "plt.legend()\n",
    "plt.show()\n",
    "   \n",
    "# Root Squared Error\n",
    "from sklearn.metrics import mean_squared_error\n",
    "from math import sqrt\n",
    "rmse = sqrt(mean_squared_error(y_test, forecast))\n",
    "print(f\"Root Mean Squared Error: {rmse}\")\n",
    "# Mean Average Percentage Error\n",
    "from sklearn.metrics import mean_absolute_percentage_error\n",
    "mape = mean_absolute_percentage_error(y_test, forecast)\n",
    "print(f\"Mean Absolute Percentage Error: {mape}\")\n",
    "\n",
    "#stationarity == not stationary \n",
    "#might want to do -- play with the 1,1,1 ---\n",
    "# look at what is seasonal order is\n",
    "#looks back and see what happened before, and uses that to predict"
   ]
  }
 ],
 "metadata": {
  "kernelspec": {
   "display_name": "base",
   "language": "python",
   "name": "python3"
  },
  "language_info": {
   "codemirror_mode": {
    "name": "ipython",
    "version": 3
   },
   "file_extension": ".py",
   "mimetype": "text/x-python",
   "name": "python",
   "nbconvert_exporter": "python",
   "pygments_lexer": "ipython3",
   "version": "3.8.5"
  }
 },
 "nbformat": 4,
 "nbformat_minor": 2
}
