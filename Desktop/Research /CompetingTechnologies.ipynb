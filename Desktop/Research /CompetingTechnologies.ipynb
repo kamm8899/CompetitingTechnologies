{
 "cells": [
  {
   "cell_type": "code",
   "execution_count": 1,
   "metadata": {},
   "outputs": [],
   "source": [
    "import pandas as pd \n",
    "import numpy as np"
   ]
  },
  {
   "cell_type": "code",
   "execution_count": null,
   "metadata": {},
   "outputs": [
    {
     "data": {
      "text/html": [
       "<div>\n",
       "<style scoped>\n",
       "    .dataframe tbody tr th:only-of-type {\n",
       "        vertical-align: middle;\n",
       "    }\n",
       "\n",
       "    .dataframe tbody tr th {\n",
       "        vertical-align: top;\n",
       "    }\n",
       "\n",
       "    .dataframe thead th {\n",
       "        text-align: right;\n",
       "    }\n",
       "</style>\n",
       "<table border=\"1\" class=\"dataframe\">\n",
       "  <thead>\n",
       "    <tr style=\"text-align: right;\">\n",
       "      <th></th>\n",
       "      <th>Year</th>\n",
       "      <th>Android Shipments Worldwide (Millions)</th>\n",
       "    </tr>\n",
       "  </thead>\n",
       "  <tbody>\n",
       "    <tr>\n",
       "      <th>0</th>\n",
       "      <td>2008</td>\n",
       "      <td>0.5</td>\n",
       "    </tr>\n",
       "    <tr>\n",
       "      <th>1</th>\n",
       "      <td>2009</td>\n",
       "      <td>5.0</td>\n",
       "    </tr>\n",
       "    <tr>\n",
       "      <th>2</th>\n",
       "      <td>2010</td>\n",
       "      <td>60.0</td>\n",
       "    </tr>\n",
       "    <tr>\n",
       "      <th>3</th>\n",
       "      <td>2011</td>\n",
       "      <td>150.0</td>\n",
       "    </tr>\n",
       "    <tr>\n",
       "      <th>4</th>\n",
       "      <td>2012</td>\n",
       "      <td>200.0</td>\n",
       "    </tr>\n",
       "  </tbody>\n",
       "</table>\n",
       "</div>"
      ],
      "text/plain": [
       "   Year  Android Shipments Worldwide (Millions)\n",
       "0  2008                                     0.5\n",
       "1  2009                                     5.0\n",
       "2  2010                                    60.0\n",
       "3  2011                                   150.0\n",
       "4  2012                                   200.0"
      ]
     },
     "execution_count": 3,
     "metadata": {},
     "output_type": "execute_result"
    }
   ],
   "source": [
    "android_sales =pd.read_excel(\"/Users/jessicakammann/Desktop/Research /Android Data /Android Sales from 2008 to 2024.xlsx\")\n",
    "android_sales.head()\n",
    "android_shipmentW= pd.read_excel(\"/Users/jessicakammann/Desktop/Research /Android Data /Android Shipments Worldwide.xlsx\")\n",
    "android_shipmentW.head()\n"
   ]
  },
  {
   "cell_type": "code",
   "execution_count": null,
   "metadata": {},
   "outputs": [],
   "source": [
    "mobileMarketShare=pd.read_csv(\"/Users/jessicakammann/Desktop/Research /Market Share Data /MobileOperatingsystemMarketShareWorldWide.csv\")\n",
    "mobileMarketShare.head()\n",
    "MobileSystemShareWorld=pd.read_csv(\"/Users/jessicakammann/Desktop/Research /Market Share Data /MobileSystemMarketShareWorldWide2009_2023.csv\")\n",
    "USMobileOperating=pd.read_csv(\"/Users/jessicakammann/Desktop/Research /Market Share Data /US Mobile Operating Systems Market Share.csv\")\n"
   ]
  },
  {
   "cell_type": "code",
   "execution_count": 2,
   "metadata": {},
   "outputs": [],
   "source": [
    "#https://www.statsmodels.org/stable/index.html\n",
    "import statsmodels.api as sm\n",
    "import statsmodels.formula.api as smf"
   ]
  },
  {
   "cell_type": "code",
   "execution_count": null,
   "metadata": {},
   "outputs": [],
   "source": [
    "#Try to find Data in Quaters instead \n",
    "# look at page 900 equation 8 \n",
    "\n",
    "#Section 3\n",
    "#A===payoff to this data \n",
    "#xi=== market Share \n",
    "\n",
    "\n",
    "\n",
    "\n",
    "#Data needed \n",
    "#average pricing\n",
    "# quarterly research investments,\n",
    "# android pricing\n",
    "# apple investment \n",
    "# -- input factors and market shares by Quarter\n",
    "#Market Share\n"
   ]
  }
 ],
 "metadata": {
  "kernelspec": {
   "display_name": "Python 3",
   "language": "python",
   "name": "python3"
  },
  "language_info": {
   "codemirror_mode": {
    "name": "ipython",
    "version": 3
   },
   "file_extension": ".py",
   "mimetype": "text/x-python",
   "name": "python",
   "nbconvert_exporter": "python",
   "pygments_lexer": "ipython3",
   "version": "3.9.19"
  }
 },
 "nbformat": 4,
 "nbformat_minor": 2
}
