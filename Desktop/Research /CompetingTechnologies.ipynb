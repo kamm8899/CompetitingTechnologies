{
 "cells": [
  {
   "cell_type": "code",
   "execution_count": 74,
   "metadata": {},
   "outputs": [],
   "source": [
    "import pandas as pd \n",
    "import numpy as np"
   ]
  },
  {
   "cell_type": "code",
   "execution_count": 75,
   "metadata": {},
   "outputs": [
    {
     "data": {
      "text/plain": [
       "Year                      object\n",
       "Android                  float64\n",
       "Apple                    float64\n",
       "Apple_investment           int64\n",
       "Samsung_Research           int64\n",
       "android_price_average      int64\n",
       "iphone_prices              int64\n",
       "dtype: object"
      ]
     },
     "execution_count": 75,
     "metadata": {},
     "output_type": "execute_result"
    }
   ],
   "source": [
    "marketshare =pd.read_excel(\"/Users/jessicakammann/Desktop/Research /Cellphone Market Share by Quarter.xlsx\")\n",
    "\n",
    "marketshare[\"Samsung_Research\"] = marketshare[\"Samsung_Research\"].astype(int)\n",
    "marketshare.dtypes\n",
    "\n"
   ]
  },
  {
   "cell_type": "code",
   "execution_count": 76,
   "metadata": {},
   "outputs": [],
   "source": [
    "#https://www.statsmodels.org/stable/index.html\n",
    "import statsmodels.api as sm\n",
    "import statsmodels.formula.api as smf\n"
   ]
  },
  {
   "cell_type": "markdown",
   "metadata": {},
   "source": [
    "Regression Model for Android versus Apple Investments "
   ]
  },
  {
   "cell_type": "code",
   "execution_count": 77,
   "metadata": {},
   "outputs": [
    {
     "name": "stdout",
     "output_type": "stream",
     "text": [
      "                            OLS Regression Results                            \n",
      "==============================================================================\n",
      "Dep. Variable:                Android   R-squared:                       0.969\n",
      "Model:                            OLS   Adj. R-squared:                  0.966\n",
      "Method:                 Least Squares   F-statistic:                     395.8\n",
      "Date:                Sat, 29 Mar 2025   Prob (F-statistic):           1.03e-37\n",
      "Time:                        17:37:17   Log-Likelihood:                -145.08\n",
      "No. Observations:                  56   AIC:                             300.2\n",
      "Df Residuals:                      51   BIC:                             310.3\n",
      "Df Model:                           4                                         \n",
      "Covariance Type:            nonrobust                                         \n",
      "=========================================================================================\n",
      "                            coef    std err          t      P>|t|      [0.025      0.975]\n",
      "-----------------------------------------------------------------------------------------\n",
      "Intercept               109.8169      5.118     21.458      0.000      99.542     120.091\n",
      "iphone_prices             0.0265      0.003     10.151      0.000       0.021       0.032\n",
      "android_price_average    -0.2453      0.011    -21.393      0.000      -0.268      -0.222\n",
      "Samsung_Research         -0.2989      0.201     -1.487      0.143      -0.702       0.105\n",
      "Apple_investment          0.0035      0.001      3.610      0.001       0.002       0.005\n",
      "==============================================================================\n",
      "Omnibus:                        0.029   Durbin-Watson:                   0.938\n",
      "Prob(Omnibus):                  0.985   Jarque-Bera (JB):                0.107\n",
      "Skew:                          -0.049   Prob(JB):                        0.948\n",
      "Kurtosis:                       2.809   Cond. No.                     5.12e+04\n",
      "==============================================================================\n",
      "\n",
      "Notes:\n",
      "[1] Standard Errors assume that the covariance matrix of the errors is correctly specified.\n",
      "[2] The condition number is large, 5.12e+04. This might indicate that there are\n",
      "strong multicollinearity or other numerical problems.\n"
     ]
    }
   ],
   "source": [
    "# Fit regression model (using the natural log of one of the regressors)\n",
    "results = smf.ols('Android ~ + iphone_prices + android_price_average + Samsung_Research + Apple_investment ', data=marketshare).fit()\n",
    "print(results.summary())\n",
    "\n"
   ]
  },
  {
   "cell_type": "markdown",
   "metadata": {},
   "source": [
    "#R-squared --adjusted Rsquared --.932 , 93% can be explained by these four variables \n",
    "#look at P variable, alot auto correlation, everything is correlated with inflation, everything goes bigger overtime, maybe need to adjust for adjust\n",
    "# leg variable \n",
    "#divide by 100 million market research \n",
    "#how do we do we do the payoff matrix "
   ]
  },
  {
   "cell_type": "markdown",
   "metadata": {},
   "source": [
    "Regression Model Apple Versus Android"
   ]
  },
  {
   "cell_type": "code",
   "execution_count": 78,
   "metadata": {},
   "outputs": [
    {
     "name": "stdout",
     "output_type": "stream",
     "text": [
      "                            OLS Regression Results                            \n",
      "==============================================================================\n",
      "Dep. Variable:                  Apple   R-squared:                       0.719\n",
      "Model:                            OLS   Adj. R-squared:                  0.697\n",
      "Method:                 Least Squares   F-statistic:                     32.67\n",
      "Date:                Sat, 29 Mar 2025   Prob (F-statistic):           1.65e-13\n",
      "Time:                        17:37:17   Log-Likelihood:                -110.49\n",
      "No. Observations:                  56   AIC:                             231.0\n",
      "Df Residuals:                      51   BIC:                             241.1\n",
      "Df Model:                           4                                         \n",
      "Covariance Type:            nonrobust                                         \n",
      "=========================================================================================\n",
      "                            coef    std err          t      P>|t|      [0.025      0.975]\n",
      "-----------------------------------------------------------------------------------------\n",
      "Intercept                 9.6836      2.760      3.509      0.001       4.144      15.224\n",
      "iphone_prices            -0.0044      0.001     -3.136      0.003      -0.007      -0.002\n",
      "android_price_average     0.0282      0.006      4.562      0.000       0.016       0.041\n",
      "Samsung_Research          0.2399      0.108      2.214      0.031       0.022       0.458\n",
      "Apple_investment          0.0004      0.001      0.783      0.437      -0.001       0.001\n",
      "==============================================================================\n",
      "Omnibus:                        0.119   Durbin-Watson:                   0.822\n",
      "Prob(Omnibus):                  0.942   Jarque-Bera (JB):                0.270\n",
      "Skew:                           0.092   Prob(JB):                        0.874\n",
      "Kurtosis:                       2.714   Cond. No.                     5.12e+04\n",
      "==============================================================================\n",
      "\n",
      "Notes:\n",
      "[1] Standard Errors assume that the covariance matrix of the errors is correctly specified.\n",
      "[2] The condition number is large, 5.12e+04. This might indicate that there are\n",
      "strong multicollinearity or other numerical problems.\n"
     ]
    }
   ],
   "source": [
    "# Fit regression model (using the natural log of one of the regressors)\n",
    "results = smf.ols('Apple ~ + iphone_prices + android_price_average + Samsung_Research + Apple_investment ', data=marketshare).fit()\n",
    "print(results.summary())"
   ]
  },
  {
   "cell_type": "code",
   "execution_count": 79,
   "metadata": {},
   "outputs": [],
   "source": [
    "#4 times but not two \n",
    "# composing two by two payoff Ai2-- apple where android exist \n",
    "#A21== Andorid where apple exist\n",
    "# where Android versus Android \n",
    "# Apple versus Apple \n",
    "#xi == Market share \n",
    "\n",
    "#Section 3\n",
    "#A===payoff to this data \n",
    "#xi=== market Share \n",
    "\n",
    "\n",
    "\n",
    "\n",
    "#Data needed \n",
    "#average pricing\n",
    "# quarterly research investments,\n",
    "# android pricing\n",
    "# apple investment \n",
    "# -- input factors and market shares by Quarter\n",
    "#Market Share\n"
   ]
  },
  {
   "cell_type": "code",
   "execution_count": 80,
   "metadata": {},
   "outputs": [
    {
     "name": "stdout",
     "output_type": "stream",
     "text": [
      "                            OLS Regression Results                            \n",
      "==============================================================================\n",
      "Dep. Variable:                  Apple   R-squared:                       0.591\n",
      "Model:                            OLS   Adj. R-squared:                  0.576\n",
      "Method:                 Least Squares   F-statistic:                     38.31\n",
      "Date:                Sat, 29 Mar 2025   Prob (F-statistic):           5.10e-11\n",
      "Time:                        17:37:17   Log-Likelihood:                -121.02\n",
      "No. Observations:                  56   AIC:                             248.0\n",
      "Df Residuals:                      53   BIC:                             254.1\n",
      "Df Model:                           2                                         \n",
      "Covariance Type:            nonrobust                                         \n",
      "====================================================================================\n",
      "                       coef    std err          t      P>|t|      [0.025      0.975]\n",
      "------------------------------------------------------------------------------------\n",
      "Intercept           21.8663      0.609     35.914      0.000      20.645      23.087\n",
      "iphone_prices       -0.0069      0.002     -4.463      0.000      -0.010      -0.004\n",
      "Apple_investment     0.0017      0.000      7.780      0.000       0.001       0.002\n",
      "==============================================================================\n",
      "Omnibus:                        1.153   Durbin-Watson:                   0.550\n",
      "Prob(Omnibus):                  0.562   Jarque-Bera (JB):                1.055\n",
      "Skew:                          -0.323   Prob(JB):                        0.590\n",
      "Kurtosis:                       2.816   Cond. No.                     9.53e+03\n",
      "==============================================================================\n",
      "\n",
      "Notes:\n",
      "[1] Standard Errors assume that the covariance matrix of the errors is correctly specified.\n",
      "[2] The condition number is large, 9.53e+03. This might indicate that there are\n",
      "strong multicollinearity or other numerical problems.\n"
     ]
    }
   ],
   "source": [
    "# Fit regression model (using the natural log of one of the regressors) Regression 3 \n",
    "results = smf.ols('Apple ~ + iphone_prices + Apple_investment ', data=marketshare).fit()\n",
    "print(results.summary())"
   ]
  },
  {
   "cell_type": "code",
   "execution_count": 81,
   "metadata": {},
   "outputs": [
    {
     "name": "stdout",
     "output_type": "stream",
     "text": [
      "                            OLS Regression Results                            \n",
      "==============================================================================\n",
      "Dep. Variable:                Android   R-squared:                       0.848\n",
      "Model:                            OLS   Adj. R-squared:                  0.842\n",
      "Method:                 Least Squares   F-statistic:                     147.3\n",
      "Date:                Sat, 29 Mar 2025   Prob (F-statistic):           2.27e-22\n",
      "Time:                        17:37:17   Log-Likelihood:                -189.50\n",
      "No. Observations:                  56   AIC:                             385.0\n",
      "Df Residuals:                      53   BIC:                             391.1\n",
      "Df Model:                           2                                         \n",
      "Covariance Type:            nonrobust                                         \n",
      "=========================================================================================\n",
      "                            coef    std err          t      P>|t|      [0.025      0.975]\n",
      "-----------------------------------------------------------------------------------------\n",
      "Intercept               100.0224      7.134     14.021      0.000      85.714     114.331\n",
      "android_price_average    -0.2747      0.023    -11.846      0.000      -0.321      -0.228\n",
      "Samsung_Research          1.2359      0.095     12.985      0.000       1.045       1.427\n",
      "==============================================================================\n",
      "Omnibus:                        3.259   Durbin-Watson:                   0.383\n",
      "Prob(Omnibus):                  0.196   Jarque-Bera (JB):                2.914\n",
      "Skew:                          -0.471   Prob(JB):                        0.233\n",
      "Kurtosis:                       2.398   Cond. No.                     2.09e+03\n",
      "==============================================================================\n",
      "\n",
      "Notes:\n",
      "[1] Standard Errors assume that the covariance matrix of the errors is correctly specified.\n",
      "[2] The condition number is large, 2.09e+03. This might indicate that there are\n",
      "strong multicollinearity or other numerical problems.\n"
     ]
    }
   ],
   "source": [
    "# Fit regression model (using the natural log of one of the regressors)\n",
    "results = smf.ols('Android ~ + android_price_average + Samsung_Research ', data=marketshare).fit()\n",
    "print(results.summary())"
   ]
  }
 ],
 "metadata": {
  "kernelspec": {
   "display_name": "Python 3",
   "language": "python",
   "name": "python3"
  },
  "language_info": {
   "codemirror_mode": {
    "name": "ipython",
    "version": 3
   },
   "file_extension": ".py",
   "mimetype": "text/x-python",
   "name": "python",
   "nbconvert_exporter": "python",
   "pygments_lexer": "ipython3",
   "version": "3.9.19"
  }
 },
 "nbformat": 4,
 "nbformat_minor": 2
}
