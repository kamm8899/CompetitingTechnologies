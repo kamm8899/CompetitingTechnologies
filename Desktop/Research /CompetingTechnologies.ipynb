{
 "cells": [
  {
   "cell_type": "code",
   "execution_count": 2,
   "metadata": {},
   "outputs": [],
   "source": [
    "import pandas as pd \n",
    "import numpy as np"
   ]
  },
  {
   "cell_type": "code",
   "execution_count": 3,
   "metadata": {},
   "outputs": [
    {
     "data": {},
     "execution_count": 3,
     "metadata": {},
     "output_type": "execute_result"
    }
   ],
   "source": [
    "marketshare =pd.read_excel(\"/Users/jessicakammann/Desktop/Research /Cellphone Market Share by Quarter.xlsx\")\n",
    "\n",
    "marketshare[\"Samsung_Research\"] = marketshare[\"Samsung_Research\"].astype(int)\n",
    "marketshare.dtypes\n",
    "\n"
   ]
  },
  {
   "cell_type": "code",
   "execution_count": 4,
   "metadata": {},
   "outputs": [],
   "source": [
    "#https://www.statsmodels.org/stable/index.html\n",
    "import statsmodels.api as sm\n",
    "import statsmodels.formula.api as smf\n"
   ]
  },
  {
   "cell_type": "markdown",
   "metadata": {},
   "source": [
    "Regression Model for Android versus Apple Investments "
   ]
  },
  {
   "cell_type": "code",
   "execution_count": 5,
   "metadata": {},
   "outputs": [
    {
     "name": "stdout",
     "output_type": "stream",
     "text": []
    }
   ],
   "source": [
    "# Fit regression model (using the natural log of one of the regressors)\n",
    "#Linear Regression for Android \n",
    "results = smf.ols('Android ~ + iphone_prices + android_price_average + Samsung_Research + Apple_investment ', data=marketshare).fit()\n",
    "print(results.summary())\n",
    "\n"
   ]
  },
  {
   "cell_type": "markdown",
   "metadata": {},
   "source": [
    "#R-squared --adjusted Rsquared --.932 , 93% can be explained by these four variables \n",
    "#look at P variable, alot auto correlation, everything is correlated with inflation, everything goes bigger overtime, maybe need to adjust for adjust\n",
    "# leg variable \n",
    "#divide by 100 million market research \n",
    "#how do we do we do the payoff matrix "
   ]
  },
  {
   "cell_type": "markdown",
   "metadata": {},
   "source": [
    "Regression Model Apple Versus Android"
   ]
  },
  {
   "cell_type": "code",
   "execution_count": 6,
   "metadata": {},
   "outputs": [
    {
     "name": "stdout",
     "output_type": "stream",
     "text": []
    }
   ],
   "source": [
    "# Fit regression model (using the natural log of one of the regressors)\n",
    "#Linear Regression for Apple \n",
    "results = smf.ols('Apple ~ + iphone_prices + android_price_average + Samsung_Research + Apple_investment ', data=marketshare).fit()\n",
    "print(results.summary())"
   ]
  },
  {
   "cell_type": "code",
   "execution_count": 7,
   "metadata": {},
   "outputs": [
    {
     "name": "stdout",
     "output_type": "stream",
     "text": []
    }
   ],
   "source": [
    "#transfer market share to coefficient\n",
    "\n",
    "#rate is the matrix times \n",
    "\n",
    "———————————\n",
    "#compete the market share, small network , apple one, andorid , price \n",
    "\n",
    "#neuron here each one is an input, and combine them into 4 intermiate nodes \n",
    "\n",
    "#final output percentage of market share\n",
    "\n",
    "#—study difference 4 inputs \n",
    "\n",
    "———————————————————————\n",
    "#market share, \n",
    "\n",
    "#predict , different models , use different regression, \n",
    "#how to predict the market share \n",
    "#maybe linear is not ideal \n",
    "#different — use last percent of data to predict \n",
    "\n",
    "#alternative way ———\n",
    "#build a predictor in a different way \n",
    "\n",
    "\n",
    "#Sarima model\n",
    "#"
   ]
  },
  {
   "cell_type": "code",
   "execution_count": null,
   "metadata": {},
   "outputs": [
    {
     "name": "stdout",
     "output_type": "stream",
     "text": []
    }
   ],
   "source": [
    "# Fit regression model (using the natural log of one of the regressors) Regression 3 \n",
    "#Linear Regression for Apple without Samsung\n",
    "results = smf.ols('Apple ~ + iphone_prices + Apple_investment ', data=marketshare).fit()\n",
    "print(results.summary())"
   ]
  },
  {
   "cell_type": "code",
   "execution_count": null,
   "metadata": {},
   "outputs": [
    {
     "name": "stdout",
     "output_type": "stream",
     "text": []
    }
   ],
   "source": [
    "# Fit regression model (using the natural log of one of the regressors)\n",
    "#Linear Regression for Android without Apple\n",
    "results = smf.ols('Android ~ + android_price_average + Samsung_Research ', data=marketshare).fit()\n",
    "print(results.summary())"
   ]
  },
  {
   "cell_type": "code",
   "execution_count": null,
   "metadata": {},
   "outputs": [
    {
     "name": "stdout",
     "output_type": "stream",
     "text": []
    }
   ],
   "source": [
    "#Linear Regression , Decision Tree, Random Forest, Neural Network\n",
    "#for Android\n",
    "from sklearn.model_selection import train_test_split\n",
    "from sklearn.ensemble import RandomForestRegressor\n",
    "from sklearn.metrics import mean_squared_error\n",
    "\n",
    "df=pd.DataFrame(marketshare)\n",
    "\n",
    "X = df [['Apple', 'Apple_investment', 'Samsung_Research', 'android_price_average', 'iphone_prices']]\n",
    "Y= df ['Android']\n",
    "\n",
    "#Split data into training and testing sets\n",
    "X_train = X.iloc[0:40,:]\n",
    "X_test = X.iloc[40:,:]\n",
    "y_train = Y.iloc[0:40]\n",
    "y_test = Y.iloc[40:]\n",
    "\n",
    "\n",
    "\n",
    "model = RandomForestRegressor(n_estimators=100, random_state=42, max_depth=8)\n",
    "model.fit(X_train, y_train)\n",
    "y_pred = model.predict(X_test)\n",
    "mse = mean_squared_error(y_test, y_pred)\n",
    "print(f\"Mean Squared Error: {mse}\")\n",
    "r2 = model.score(X_test, y_test)\n",
    "print(f\"R^2 Score: {r2}\")\n",
    "\n",
    "#Time Series models--- look at those \n"
   ]
  },
  {
   "cell_type": "code",
   "execution_count": null,
   "metadata": {},
   "outputs": [
    {
     "name": "stdout",
     "output_type": "stream",
     "text": []
    }
   ],
   "source": [
    "#Linear Regression , Decision Tree, Random Forest, Neural Network\n",
    "#for Android\n",
    "from sklearn.model_selection import train_test_split\n",
    "from sklearn.ensemble import RandomForestRegressor\n",
    "from sklearn.metrics import mean_squared_error\n",
    "\n",
    "df=pd.DataFrame(marketshare)\n",
    "\n",
    "X = df [['Android', 'Apple_investment', 'Samsung_Research', 'android_price_average', 'iphone_prices']]\n",
    "Y= df ['Apple']\n",
    "\n",
    "#Split data into training and testing sets\n",
    "X_train = X.iloc[0:40,:]\n",
    "X_test = X.iloc[40:,:]\n",
    "y_train = Y.iloc[0:40]\n",
    "y_test = Y.iloc[40:]\n",
    "\n",
    "\n",
    "\n",
    "model = RandomForestRegressor(n_estimators=100, random_state=42)\n",
    "model.fit(X_train, y_train)\n",
    "y_pred = model.predict(X_test)\n",
    "mse = mean_squared_error(y_test, y_pred)\n",
    "print(f\"Mean Squared Error: {mse}\")\n",
    "r2 = model.score(X_test, y_test)\n",
    "print(f\"R^2 Score: {r2}\")\n"
   ]
  },
  {
   "cell_type": "code",
   "execution_count": null,
   "metadata": {},
   "outputs": [
    {
     "name": "stdout",
     "output_type": "stream",
     "text": []
    }
   ],
   "source": [
    "#ARIMA model test if the \n",
    "#Apple \n",
    "#How do I add the rest of the constraints to this model?\n",
    "\n",
    "data = { 'date':['2011-Q1', '2011-Q2', '2011-Q3', '2011-Q4', '2012-Q1', '2012-Q2', '2012-Q3', '2012-Q4', '2013-Q1', '2013-Q2', '2013-Q3', '2013-Q4', '2014-Q1', '2014-Q2', '2014-Q3', '2014-Q4', '2015-Q1', '2015-Q2', '2015-Q3', '2015-Q4', '2016-Q1', '2016-Q2', '2016-Q3', '2016-Q4', '2017-Q1', '2017-Q2', '2017-Q3', '2017-Q4', '2018-Q1', '2018-Q2', '2018-Q3', '2018-Q4',' 2019-Q1','2019-Q2','2019-Q3','2019-Q4','2020- Q1',' 2020- Q2',' 2020- Q3',' 2020- Q4',' 2021- Q1',' 2021- Q2',' 2021- Q3',' 2021- Q4',' 2022- Q1',' 2022- Q2',' 2022- Q3',' 2022- Q4',' 2023- Q1',' 2023- Q2',' 2023- Q3',' 2023- Q4',' 2024- Q1',' 2024- Q2',' 2024- Q3',' 2024- Q4'], \n",
    "         'market_share_apple':['24.38','20.04','21.21','22.71','23.99','24.56','23.63','23.26','27.14','25.09','22.73','21.82','23.6','24.29','24.73','23.51','22.64','20.22','18.14','19.21','18.82','20.33','19.38','18.89','19.5','19.35','19.37','19.91','20.83','18.91','20.66','21.98','22.4','22.04','22.48','24.79','27.03','25.26','24.98','26.91','27.41','26.35','26.75','29.24','27.57','27.22','27.8','26.98','28.42','28.44','29.58','28.8','28.46','27.16','27.61','26.04'],\n",
    "         'market_share_android': ['15.82','17.92','20.9','21.83','23.61','25.07','29.25','33.19','37.23','37.93','39.82','42.99','48.26','52.98','55.7','59.15','61.94','63.75','66.77','65.9','68.04','68.39','69.68','71.97','71.61','72.89','73.52','73.54','74.24','76.99','76.61','75.16','75.33','76.03','76.24','74.13','72.26','74.14','74.44','72.48','71.83','72.83','72.44','70.01','71.7','72.12','71.55','72.37','70.88','70.79','69.74','70.48','70.78','72.17','71.84','73.49'],\n",
    "         'Apple_investment':['581','628','645','758','841','876','628','906','1,010','1,119','1,178','1,168','1,330','1,422','1,603','1,686','1,895','1,918','2,034','2,220','2,404','2,511','2,560','2,570','2,871','2,776','2,937','2,997','3407','3378','3701','3750','3948','4257','4110','4451','4565','4758','4978','5163','5262','5717','5772','6306','6387','6797','6761','7709','7457','7442','7307',' $7,696 ',' $7,903',' $8,006',' $7,765',' $8,268'],\n",
    "         'Samsung_Research': ['16.14','17.39','16.75','18.85','18.8','19.77','20.58','20.53','22.92','24.45','25.17','25.96','25.28','25.63','22.92735','25.16807','24.05','23.0894','23.55','23.838708','24.6','24.19','24.19','24.39','25.974546','27.352506','28.799364','30.521814','29.074956','30.848426','35.18','36.102552','33.76002','34.10451','35.344674','33.7241544','36.929328','35.964756','36.584838','35.964756','37.480512','37.067124','35.206878','44.577006','40.787616','43.06125','43.199046','44.545946','45.334884','49.656','48.297498','52.01799','53.878236','49.60656','48.297498','51.66735'],\n",
    "         'android_price_average': ['380,','380','380','380','380','320','320','320','276','276','276','276','254','254','254','254','232','232','232','232','220','220','220','220','235','235','235','235','254','254','254','254','270','270','270','270','292','292','292','292','296','296','296','296','300','300','300','300','305','305','305','305','305','305', '305','305'],\n",
    "         'iphone_prices': ['199','199','199','199','199','199','199','199','99','99','99','99','249','249','249','249','249','249','249','249','606','606','606','606','832','832','832','832','949','949','949','949','933','933','933','933','999','999','999','999','899','899','899','899','949','949','949','949','974','974','974','974','974','974','974','974']\n",
    "\n",
    "    \n",
    "}\n",
    "# Strip leading/trailing spaces from 'date' strings\n",
    "data['date'] = [d.strip().replace(' ', '') for d in data['date']]\n",
    "\n",
    "\n",
    "# Convert 'date' to datetime by parsing year and quarter\n",
    "def parse_quarter(date_str):\n",
    "    year, quarter = date_str.split('-')\n",
    "    quarter_start_month = {'Q1': '01', 'Q2': '04', 'Q3': '07', 'Q4': '10'}\n",
    "    return f\"{year}-{quarter_start_month[quarter]}-01\"\n",
    "\n",
    "df = pd.DataFrame(data)\n",
    "df['date'] = pd.to_datetime(df['date'].apply(parse_quarter))\n",
    "df.set_index('date', inplace=True)\n",
    "\n",
    "# Convert market share and other columns to numeric, handling errors \n",
    "df['market_share_apple'] = pd.to_numeric(df['market_share_apple'], errors='coerce')\n",
    "df['Apple_investment'] = pd.to_numeric(df['Apple_investment'].str.replace(',', '').str.replace('$', ''), errors='coerce')\n",
    "df['Samsung_Research'] = pd.to_numeric(df['Samsung_Research'], errors='coerce')\n",
    "df['android_price_average'] = pd.to_numeric(df['android_price_average'].str.replace(',', ''), errors='coerce')\n",
    "df['iphone_prices'] = pd.to_numeric(df['iphone_prices'], errors='coerce')\n",
    "\n",
    "# Drop rows with missing or invalid data\n",
    "df.dropna(inplace=True)\n",
    "\n",
    "Y = df['market_share_apple']\n",
    "X = df[['Apple_investment', 'Samsung_Research', 'android_price_average', 'iphone_prices']]\n",
    "\n",
    "# Reset index to access 'date' column for forecasting\n",
    "df.reset_index(inplace=True)\n",
    "\n",
    "# Split data into training and testing sets\n",
    "X_train = X.iloc[0:40,:]\n",
    "X_test = X.iloc[40:,:]\n",
    "y_train = Y.iloc[0:40]\n",
    "y_test = Y.iloc[40:]\n",
    "\n",
    "from statsmodels.tsa.arima.model import ARIMA\n",
    "model = ARIMA(y_train, exog=X_train, order=(1, 1, 0))\n",
    "\n",
    "model_fit = model.fit()\n",
    "print(model_fit.summary())\n",
    "\n",
    "# Forecast the next 4 quarters\n",
    "forecast = model_fit.forecast(steps=len(X_test), exog=X_test)\n",
    "\n",
    "# Create a datetime index for the forecast\n",
    "forecast_index = pd.date_range(start=df['date'].iloc[-1], periods=len(X_test) + 1, freq='Q')[1:]\n",
    "\n",
    "# Plot the data\n",
    "import matplotlib.pyplot as plt\n",
    "plt.plot(df['date'], df['market_share_apple'], label='Actual')\n",
    "plt.plot(forecast_index, forecast, label='Forecast', color='red')\n",
    "plt.xlabel('Date')\n",
    "plt.ylabel('Market Share')\n",
    "plt.title('Apple Market Share Forecast')\n",
    "plt.legend()\n",
    "plt.show()\n",
    "   \n",
    "# Root Squared Error\n",
    "from sklearn.metrics import mean_squared_error\n",
    "from math import sqrt\n",
    "rmse = sqrt(mean_squared_error(y_test, forecast))\n",
    "print(f\"Root Mean Squared Error: {rmse}\")\n",
    "# Mean Average Percentage Error\n",
    "from sklearn.metrics import mean_absolute_percentage_error\n",
    "mape = mean_absolute_percentage_error(y_test, forecast)\n",
    "print(f\"Mean Absolute Percentage Error: {mape}\")\n",
    "\n",
    "#stationarity == not stationary \n",
    "#might want to do -- play with the 1,1,1 ---\n",
    "# look at what is seasonal order is\n",
    "#looks back and see what happened before, and uses that to predict"
   ]
  },
  {
   "cell_type": "code",
   "execution_count": null,
   "metadata": {},
   "outputs": [],
   "source": [
    "#will tell me automatically what tthe best parameters are based of the grid search\n",
    "from pmdarima import auto_arima\n",
    "\n",
    "model = auto_arima(y_train, X_train, seasonal=False, stepwise=True, suppress_warnings=True)\n",
    "print(model.summary())"
   ]
  },
  {
   "cell_type": "markdown",
   "metadata": {},
   "source": [
    "Compare AIC between one model versus the other, AIC is way to comparing models between \n",
    "\n",
    "\n",
    "Train test split\n"
   ]
  }
 ],
 "metadata": {
  "kernelspec": {
   "display_name": "Python 3",
   "language": "python",
   "name": "python3"
  },
  "language_info": {
   "codemirror_mode": {
    "name": "ipython",
    "version": 3
   },
   "file_extension": ".py",
   "mimetype": "text/x-python",
   "name": "python",
   "nbconvert_exporter": "python",
   "pygments_lexer": "ipython3",
   "version": "3.9.19"
  }
 },
 "nbformat": 4,
 "nbformat_minor": 2
}
